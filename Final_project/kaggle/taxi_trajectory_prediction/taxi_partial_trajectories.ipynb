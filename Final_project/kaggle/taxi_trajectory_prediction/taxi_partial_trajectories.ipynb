{
 "cells": [
  {
   "cell_type": "markdown",
   "metadata": {},
   "source": [
    "#Predict the destination of taxi trips based on initial partial trajectories"
   ]
  },
  {
   "cell_type": "markdown",
   "metadata": {},
   "source": [
    "The dataset for training is quite large. It is encoded as a csv file containing >1 million taxi rides for a 1 year duration in the city of Porto, Portugal. The most important field is the POLYLINE field, which contains a list of points (lat/lon), which are the updated location of the cab every 15 seconds for the duration of the ride. The test data contains a truncated POLYLINE, which will be used to predict the destination of the cab. Competition details here https://www.kaggle.com/c/pkdd-15-predict-taxi-service-trajectory-i."
   ]
  },
  {
   "cell_type": "code",
   "execution_count": 257,
   "metadata": {
    "collapsed": true
   },
   "outputs": [],
   "source": [
    "%matplotlib inline\n",
    "from __future__ import division\n",
    "import pandas as pd\n",
    "import seaborn as sns\n",
    "import numpy as np\n",
    "from matplotlib import pyplot as plt\n",
    "\n",
    "rng = np.random.RandomState(1)"
   ]
  },
  {
   "cell_type": "code",
   "execution_count": 66,
   "metadata": {
    "collapsed": false
   },
   "outputs": [
    {
     "data": {
      "text/plain": [
       "pandas.io.parsers.TextFileReader"
      ]
     },
     "execution_count": 66,
     "metadata": {},
     "output_type": "execute_result"
    }
   ],
   "source": [
    "taxi_train = pd.read_csv('train.csv', chunksize=1000)\n",
    "type(taxi_train) #returns a chunkable TextFileReader that can iterate with chunksize, or by its read(nrows) method"
   ]
  },
  {
   "cell_type": "code",
   "execution_count": 30,
   "metadata": {
    "collapsed": false
   },
   "outputs": [],
   "source": [
    "plengths = []\n",
    "for chunk in taxi_train:\n",
    "    chunk = chunk.replace(to_replace=True, value=np.nan).dropna(subset=['MISSING_DATA'])\n",
    "    chunk.POLYLINE = chunk.POLYLINE.apply(eval)\n",
    "    for p in chunk.POLYLINE:\n",
    "        plengths.append(len(p))"
   ]
  },
  {
   "cell_type": "code",
   "execution_count": 57,
   "metadata": {
    "collapsed": false
   },
   "outputs": [
    {
     "data": {
      "image/png": "[encoded data removed]",
      "text/plain": [
       "<matplotlib.figure.Figure at 0x1195b2050>"
      ]
     },
     "metadata": {},
     "output_type": "display_data"
    }
   ],
   "source": [
    "plengths = np.array(plengths)\n",
    "sns.plt.hist(plengths, 20)\n",
    "sns.plt.yscale('log')"
   ]
  },
  {
   "cell_type": "code",
   "execution_count": 58,
   "metadata": {
    "collapsed": false
   },
   "outputs": [
    {
     "data": {
      "image/png": "[encoded data removed]",
      "text/plain": [
       "<matplotlib.figure.Figure at 0x113dbd550>"
      ]
     },
     "metadata": {},
     "output_type": "display_data"
    }
   ],
   "source": [
    "taxi_test = pd.read_csv('test.csv')\n",
    "taxi_test.POLYLINE = taxi_test.POLYLINE.apply(eval)\n",
    "test_plengths = [len(p) for p in taxi_test.POLYLINE]\n",
    "sns.plt.hist(test_plengths, 20)\n",
    "sns.plt.yscale('log')"
   ]
  },
  {
   "cell_type": "code",
   "execution_count": 344,
   "metadata": {
    "collapsed": false
   },
   "outputs": [
    {
     "data": {
      "text/plain": [
       "1"
      ]
     },
     "execution_count": 344,
     "metadata": {},
     "output_type": "execute_result"
    }
   ],
   "source": [
    "min(test_plengths)"
   ]
  },
  {
   "cell_type": "markdown",
   "metadata": {},
   "source": [
    "Comparing the test and train data you can see that there is a much larger range of POLYLINE lengths in the training data than the test data. In the training data you have POLYLINES as long as 4000 coordinates. If the data are being collected every 15 seconds as indicated on the kaggle site, then that would be a 16 hour cab ride, which is obviously very unlikely. Since these are large outliers my guess is that the cab driver either forgot to somehow end the GPS transmission and left it going overnight, or something like that. It is surprising however, how many POLYLINES have lengths in the 1000 - 2000 range since these would still be many hour long cab rides. It may be that the collection of coordinates is not actually every 15 seconds, but variable. In any case, it is clear that in order to make most effective use of the data whatever algorithm is used to predict the destination must be able to accomodate varying amounts of training data from the POLYLINE feature. One possibility might be to smooth the data using a filter, such as a Kalman or Bayesian filter and then represent the trajectory as a parameterized Bezier (or polynomial) curve, such that curves most closely matching previously seen curves are predicted to have similar destinations."
   ]
  },
  {
   "cell_type": "markdown",
   "metadata": {},
   "source": [
    "###Model scoring"
   ]
  },
  {
   "cell_type": "markdown",
   "metadata": {},
   "source": [
    "The scoring of the model will require calculating the distance between the predicted point and ground truth destination. In the kaggle competition the distance is not the simple euclidian distance between two points on a plane, but the Havershine distance, which is calculated on the surface of a sphere, with the radius (in kilometers) set to that of earth."
   ]
  },
  {
   "cell_type": "markdown",
   "metadata": {},
   "source": [
    "<img src='mean_hav.png'>"
   ]
  },
  {
   "cell_type": "code",
   "execution_count": 267,
   "metadata": {
    "collapsed": false
   },
   "outputs": [],
   "source": [
    "def kaggle_haversine(coord1, coord2, r = 6371.0):\n",
    "    lat1, lon1 = coord1\n",
    "    lat2, lon2 = coord2\n",
    "    lat = abs(lat1-lat2)*np.pi/180\n",
    "    lon = abs(lon1-lon2)*np.pi/180\n",
    "    lat1 = lat1*np.pi/180\n",
    "    lat2 = lat2*np.pi/180\n",
    "    a = np.sin(lat/2)*np.sin(lat/2)+np.cos(lat1)*np.cos(lat2)*np.sin(lon/2)*np.sin(lon/2)\n",
    "    d = 2*np.arctan2(np.sqrt(a),np.sqrt(1-a))\n",
    "    d = r*d\n",
    "    return(d)\n"
   ]
  },
  {
   "cell_type": "markdown",
   "metadata": {},
   "source": [
    "###Basic model with Multitask Lasso"
   ]
  },
  {
   "cell_type": "code",
   "execution_count": 156,
   "metadata": {
    "collapsed": false
   },
   "outputs": [],
   "source": [
    "from sklearn.linear_model import MultiTaskElasticNet, MultiTaskLasso, MultiTaskElasticNetCV, MultiTaskLassoCV\n",
    "from sklearn.tree import DecisionTreeRegressor\n",
    "from sklearn.ensemble import RandomForestRegressor, ExtraTreesRegressor\n",
    "from sklearn.cross_validation import KFold, cross_val_score"
   ]
  },
  {
   "cell_type": "code",
   "execution_count": 104,
   "metadata": {
    "collapsed": true
   },
   "outputs": [],
   "source": [
    "import re\n",
    "def f(cell):\n",
    "    match = re.search(r'^\\[\\[.*\\]\\]$', cell)\n",
    "    if match:\n",
    "        return np.array(eval(cell))\n",
    "    else:\n",
    "        return np.nan"
   ]
  },
  {
   "cell_type": "code",
   "execution_count": 105,
   "metadata": {
    "collapsed": false
   },
   "outputs": [
    {
     "data": {
      "text/html": [
       "<div style=\"max-height:1000px;max-width:1500px;overflow:auto;\">\n",
       "<table border=\"1\" class=\"dataframe\">\n",
       "  <thead>\n",
       "    <tr style=\"text-align: right;\">\n",
       "      <th></th>\n",
       "      <th>TRIP_ID</th>\n",
       "      <th>ORIGIN_CALL</th>\n",
       "      <th>ORIGIN_STAND</th>\n",
       "      <th>TAXI_ID</th>\n",
       "      <th>TIMESTAMP</th>\n",
       "      <th>MISSING_DATA</th>\n",
       "    </tr>\n",
       "  </thead>\n",
       "  <tbody>\n",
       "    <tr>\n",
       "      <th>count</th>\n",
       "      <td> 5.000000e+03</td>\n",
       "      <td>  1052.000000</td>\n",
       "      <td> 2733.000000</td>\n",
       "      <td>     5000.000000</td>\n",
       "      <td> 5.000000e+03</td>\n",
       "      <td>  5000</td>\n",
       "    </tr>\n",
       "    <tr>\n",
       "      <th>mean</th>\n",
       "      <td> 1.592368e+15</td>\n",
       "      <td> 23167.331749</td>\n",
       "      <td>   29.866813</td>\n",
       "      <td> 20000347.894800</td>\n",
       "      <td> 1.374030e+09</td>\n",
       "      <td>     0</td>\n",
       "    </tr>\n",
       "    <tr>\n",
       "      <th>std</th>\n",
       "      <td> 3.299421e+13</td>\n",
       "      <td> 19657.867698</td>\n",
       "      <td>   17.809361</td>\n",
       "      <td>      209.193492</td>\n",
       "      <td> 3.299431e+04</td>\n",
       "      <td>     0</td>\n",
       "    </tr>\n",
       "    <tr>\n",
       "      <th>min</th>\n",
       "      <td> 1.373755e+18</td>\n",
       "      <td>  2001.000000</td>\n",
       "      <td>    1.000000</td>\n",
       "      <td> 20000001.000000</td>\n",
       "      <td> 1.373755e+09</td>\n",
       "      <td> False</td>\n",
       "    </tr>\n",
       "    <tr>\n",
       "      <th>25%</th>\n",
       "      <td> 1.373998e+18</td>\n",
       "      <td>  5640.000000</td>\n",
       "      <td>   15.000000</td>\n",
       "      <td> 20000163.000000</td>\n",
       "      <td> 1.373998e+09</td>\n",
       "      <td>     0</td>\n",
       "    </tr>\n",
       "    <tr>\n",
       "      <th>50%</th>\n",
       "      <td> 1.374041e+18</td>\n",
       "      <td> 16168.000000</td>\n",
       "      <td>   26.000000</td>\n",
       "      <td> 20000344.000000</td>\n",
       "      <td> 1.374041e+09</td>\n",
       "      <td>     0</td>\n",
       "    </tr>\n",
       "    <tr>\n",
       "      <th>75%</th>\n",
       "      <td> 1.374059e+18</td>\n",
       "      <td> 38577.000000</td>\n",
       "      <td>   47.000000</td>\n",
       "      <td> 20000518.000000</td>\n",
       "      <td> 1.374059e+09</td>\n",
       "      <td>     0</td>\n",
       "    </tr>\n",
       "    <tr>\n",
       "      <th>max</th>\n",
       "      <td> 1.374079e+18</td>\n",
       "      <td> 63882.000000</td>\n",
       "      <td>   63.000000</td>\n",
       "      <td> 20000904.000000</td>\n",
       "      <td> 1.374079e+09</td>\n",
       "      <td> False</td>\n",
       "    </tr>\n",
       "  </tbody>\n",
       "</table>\n",
       "</div>"
      ],
      "text/plain": [
       "            TRIP_ID   ORIGIN_CALL  ORIGIN_STAND          TAXI_ID  \\\n",
       "count  5.000000e+03   1052.000000   2733.000000      5000.000000   \n",
       "mean   1.592368e+15  23167.331749     29.866813  20000347.894800   \n",
       "std    3.299421e+13  19657.867698     17.809361       209.193492   \n",
       "min    1.373755e+18   2001.000000      1.000000  20000001.000000   \n",
       "25%    1.373998e+18   5640.000000     15.000000  20000163.000000   \n",
       "50%    1.374041e+18  16168.000000     26.000000  20000344.000000   \n",
       "75%    1.374059e+18  38577.000000     47.000000  20000518.000000   \n",
       "max    1.374079e+18  63882.000000     63.000000  20000904.000000   \n",
       "\n",
       "          TIMESTAMP MISSING_DATA  \n",
       "count  5.000000e+03         5000  \n",
       "mean   1.374030e+09            0  \n",
       "std    3.299431e+04            0  \n",
       "min    1.373755e+09        False  \n",
       "25%    1.373998e+09            0  \n",
       "50%    1.374041e+09            0  \n",
       "75%    1.374059e+09            0  \n",
       "max    1.374079e+09        False  "
      ]
     },
     "execution_count": 105,
     "metadata": {},
     "output_type": "execute_result"
    }
   ],
   "source": [
    "df = taxi_train.read(5000)\n",
    "df.describe()"
   ]
  },
  {
   "cell_type": "code",
   "execution_count": 106,
   "metadata": {
    "collapsed": true
   },
   "outputs": [],
   "source": [
    "df.POLYLINE = df.POLYLINE.apply(f)"
   ]
  },
  {
   "cell_type": "code",
   "execution_count": 110,
   "metadata": {
    "collapsed": false
   },
   "outputs": [
    {
     "name": "stdout",
     "output_type": "stream",
     "text": [
      "<class 'pandas.core.frame.DataFrame'>\n",
      "Int64Index: 4972 entries, 0 to 4999\n",
      "Data columns (total 9 columns):\n",
      "TRIP_ID         4972 non-null int64\n",
      "CALL_TYPE       4972 non-null object\n",
      "ORIGIN_CALL     1050 non-null float64\n",
      "ORIGIN_STAND    2724 non-null float64\n",
      "TAXI_ID         4972 non-null int64\n",
      "TIMESTAMP       4972 non-null int64\n",
      "DAY_TYPE        4972 non-null object\n",
      "MISSING_DATA    4972 non-null bool\n",
      "POLYLINE        4972 non-null object\n",
      "dtypes: bool(1), float64(2), int64(3), object(3)\n",
      "memory usage: 354.4+ KB\n"
     ]
    }
   ],
   "source": [
    "df.dropna(axis = 'rows', subset = ['POLYLINE'], inplace = True)\n",
    "df.info()"
   ]
  },
  {
   "cell_type": "code",
   "execution_count": 111,
   "metadata": {
    "collapsed": false
   },
   "outputs": [
    {
     "name": "stdout",
     "output_type": "stream",
     "text": [
      "<class 'pandas.core.frame.DataFrame'>\n",
      "Int64Index: 4972 entries, 0 to 4999\n",
      "Data columns (total 9 columns):\n",
      "TRIP_ID         4972 non-null int64\n",
      "CALL_TYPE       4972 non-null object\n",
      "ORIGIN_CALL     4972 non-null float64\n",
      "ORIGIN_STAND    4972 non-null float64\n",
      "TAXI_ID         4972 non-null int64\n",
      "TIMESTAMP       4972 non-null int64\n",
      "DAY_TYPE        4972 non-null object\n",
      "MISSING_DATA    4972 non-null bool\n",
      "POLYLINE        4972 non-null object\n",
      "dtypes: bool(1), float64(2), int64(3), object(3)\n",
      "memory usage: 354.4+ KB\n"
     ]
    }
   ],
   "source": [
    "df.fillna(value = 0, inplace=True)\n",
    "df.info()"
   ]
  },
  {
   "cell_type": "code",
   "execution_count": 220,
   "metadata": {
    "collapsed": false
   },
   "outputs": [],
   "source": [
    "X = df.drop(['POLYLINE', 'TRIP_ID', 'MISSING_DATA'], axis = 'columns')\n",
    "X = pd.get_dummies(X, columns=['CALL_TYPE', 'DAY_TYPE'])\n",
    "\n",
    "def trunc_plines(cell): \n",
    "    '''Truncate trajectories to roughly half their total length, \n",
    "    unless they are too short, then deal with them by doing nothing or repeat the origin twice.'''\n",
    "    len_cell = len(cell)\n",
    "    if len_cell > 2:\n",
    "        ret_cell = np.vstack((cell[:(len_cell//2)+1, :], np.atleast_2d(cell[-1])))\n",
    "        return ret_cell\n",
    "    elif len_cell == 1:\n",
    "        ret_cell = np.vstack((cell, cell))\n",
    "        return ret_cell\n",
    "    else:\n",
    "        return cell\n",
    "\n",
    "plines = df.POLYLINE.apply(trunc_plines)\n",
    "ori = np.array([k[0] for k in plines])\n",
    "midp = np.array([i[-2] for i in plines])\n",
    "dest = [j[-1] for j in plines]\n",
    "X['MID_LAT'] = midp[:,0]\n",
    "X['MID_LON'] = midp[:,1]\n",
    "X['ORI_LAT'] = ori[:,0]\n",
    "X['ORI_LON'] = ori[:,1]\n",
    "y = np.array(dest).reshape((-1,2))\n",
    "X = X.values"
   ]
  },
  {
   "cell_type": "markdown",
   "metadata": {},
   "source": [
    "At this point I am limited to algorithms that are capable of multi-output prediction. These include decision trees and a form of linear regression called Multitask Lasso. Below are a few examples to see how close they each come using a small subset of the data."
   ]
  },
  {
   "cell_type": "markdown",
   "metadata": {},
   "source": [
    "###Decision Tree Regressor"
   ]
  },
  {
   "cell_type": "code",
   "execution_count": 263,
   "metadata": {
    "collapsed": false
   },
   "outputs": [
    {
     "data": {
      "text/plain": [
       "[<matplotlib.lines.Line2D at 0x11700a4d0>]"
      ]
     },
     "execution_count": 263,
     "metadata": {},
     "output_type": "execute_result"
    },
    {
     "data": {
      "image/png": "[encoded data removed]",
      "text/plain": [
       "<matplotlib.figure.Figure at 0x119b2e5d0>"
      ]
     },
     "metadata": {},
     "output_type": "display_data"
    }
   ],
   "source": [
    "kf = KFold(len(X), n_folds=8, shuffle=True, random_state=1)\n",
    "mean_scores_all = []\n",
    "for d in range(1,31):\n",
    "    reg = DecisionTreeRegressor(max_depth=d, random_state=1)\n",
    "    mean_scores = []\n",
    "    for train, test in kf:\n",
    "        scores = []\n",
    "        reg.fit(X[train], y[train])\n",
    "        preds = reg.predict(X[test])\n",
    "        for i,j in zip(preds,y[test]):\n",
    "            score = kaggle_haversine(i,j)\n",
    "            scores.append(score)\n",
    "        mean_scores.append(np.mean(scores))\n",
    "    mean_scores_all.append(np.mean(mean_scores))\n",
    "\n",
    "sns.plt.plot(range(1,31), mean_scores_all)"
   ]
  },
  {
   "cell_type": "code",
   "execution_count": 264,
   "metadata": {
    "collapsed": false
   },
   "outputs": [
    {
     "name": "stdout",
     "output_type": "stream",
     "text": [
      "2.09154285061 9\n"
     ]
    }
   ],
   "source": [
    "print min(mean_scores_all), range(1,31)[np.argmin(mean_scores_all)]"
   ]
  },
  {
   "cell_type": "markdown",
   "metadata": {},
   "source": [
    "###Extra Trees"
   ]
  },
  {
   "cell_type": "code",
   "execution_count": 265,
   "metadata": {
    "collapsed": false
   },
   "outputs": [
    {
     "name": "stdout",
     "output_type": "stream",
     "text": [
      "1.65452698315 19\n"
     ]
    },
    {
     "data": {
      "text/plain": [
       "[<matplotlib.lines.Line2D at 0x11653d550>]"
      ]
     },
     "execution_count": 265,
     "metadata": {},
     "output_type": "execute_result"
    },
    {
     "data": {
      "image/png": "[encoded data removed]",
      "text/plain": [
       "<matplotlib.figure.Figure at 0x11701f290>"
      ]
     },
     "metadata": {},
     "output_type": "display_data"
    }
   ],
   "source": [
    "kf = KFold(len(X), n_folds=8, shuffle=True, random_state=1)\n",
    "mean_scores_all = []\n",
    "for d in range(1,31):\n",
    "    reg = ExtraTreesRegressor(n_estimators=1000, max_depth=d, random_state=1)\n",
    "    mean_scores = []\n",
    "    for train, test in kf:\n",
    "        scores = []\n",
    "        reg.fit(X[train], y[train])\n",
    "        preds = reg.predict(X[test])\n",
    "        for i,j in zip(preds,y[test]):\n",
    "            score = kaggle_haversine(i,j)\n",
    "            scores.append(score)\n",
    "        mean_scores.append(np.mean(scores))\n",
    "    mean_scores_all.append(np.mean(mean_scores))\n",
    "print min(mean_scores_all), range(1,31)[np.argmin(mean_scores_all)]\n",
    "\n",
    "sns.plt.plot(range(1,31), mean_scores_all)"
   ]
  },
  {
   "cell_type": "markdown",
   "metadata": {},
   "source": [
    "###Random Forest"
   ]
  },
  {
   "cell_type": "code",
   "execution_count": 266,
   "metadata": {
    "collapsed": false,
    "scrolled": true
   },
   "outputs": [
    {
     "name": "stdout",
     "output_type": "stream",
     "text": [
      "[1.5901252070083383, 1.6477313718050925, 1.6987410515441497, 1.5476911694575619, 1.6444965081609146, 1.6093270984171644, 1.6472617590623053, 1.913638740996445] 1.66237661331\n"
     ]
    }
   ],
   "source": [
    "kf = KFold(len(X), n_folds=8, shuffle=True)\n",
    "reg = RandomForestRegressor(n_estimators=1000, max_depth=19, n_jobs=-1)\n",
    "mean_scores = []\n",
    "for train, test in kf:\n",
    "    scores = []\n",
    "    reg.fit(X[train], y[train])\n",
    "    preds = reg.predict(X[test])\n",
    "    for i,j in zip(preds,y[test]):\n",
    "        score = kaggle_haversine(i,j)\n",
    "        scores.append(score)\n",
    "    mean_scores.append(np.mean(scores))\n",
    "print mean_scores, np.mean(mean_scores)"
   ]
  },
  {
   "cell_type": "markdown",
   "metadata": {},
   "source": [
    "###Multitask Lasso"
   ]
  },
  {
   "cell_type": "code",
   "execution_count": 211,
   "metadata": {
    "collapsed": false
   },
   "outputs": [
    {
     "name": "stdout",
     "output_type": "stream",
     "text": [
      "[1.8348951987821531, 1.859510468503125, 1.7879350904602314, 1.9078473661046749, 2.0739303539308787, 1.9121935011854447, 1.7968780834055729] 1.88188429462\n"
     ]
    }
   ],
   "source": [
    "kf = KFold(len(X), n_folds=7, shuffle=True)\n",
    "reg = MultiTaskLassoCV(normalize=True, cv = 5, n_jobs = -1)\n",
    "mean_scores = []\n",
    "for train, test in kf:\n",
    "    scores = []\n",
    "    reg.fit(X[train], y[train])\n",
    "    preds = reg.predict(X[test])\n",
    "    for i,j in zip(preds,y[test]):\n",
    "        score = kaggle_haversine(i,j)\n",
    "        scores.append(score)\n",
    "    mean_scores.append(np.mean(scores))\n",
    "print mean_scores, np.mean(mean_scores)"
   ]
  },
  {
   "cell_type": "markdown",
   "metadata": {},
   "source": [
    "###Multitask ElasticNet"
   ]
  },
  {
   "cell_type": "code",
   "execution_count": 212,
   "metadata": {
    "collapsed": false
   },
   "outputs": [
    {
     "name": "stdout",
     "output_type": "stream",
     "text": [
      "[1.8895161821619983, 1.8600904066409412, 1.8536442799234816, 1.9788844415030942, 1.9015624062007144, 1.9314519857534911, 1.7681248006517702] 1.88332492898\n"
     ]
    }
   ],
   "source": [
    "kf = KFold(len(X), n_folds=7, shuffle=True)\n",
    "reg = MultiTaskElasticNetCV(normalize=True, cv = 5, n_jobs = -1)\n",
    "mean_scores = []\n",
    "for train, test in kf:\n",
    "    scores = []\n",
    "    reg.fit(X[train], y[train])\n",
    "    preds = reg.predict(X[test])\n",
    "    for i,j in zip(preds,y[test]):\n",
    "        score = kaggle_haversine(i,j)\n",
    "        scores.append(score)\n",
    "    mean_scores.append(np.mean(scores))\n",
    "print mean_scores, np.mean(mean_scores)"
   ]
  },
  {
   "cell_type": "markdown",
   "metadata": {},
   "source": [
    "So far the best results are using a Extra Trees, although Random Forest is in the same ballpark."
   ]
  },
  {
   "cell_type": "markdown",
   "metadata": {},
   "source": [
    "###KNN"
   ]
  },
  {
   "cell_type": "code",
   "execution_count": 183,
   "metadata": {
    "collapsed": true
   },
   "outputs": [],
   "source": [
    "from sklearn.neighbors import KNeighborsRegressor, RadiusNeighborsRegressor"
   ]
  },
  {
   "cell_type": "code",
   "execution_count": 213,
   "metadata": {
    "collapsed": false
   },
   "outputs": [],
   "source": [
    "kf = KFold(len(X), n_folds=7, shuffle=True)\n",
    "mean_scores_all = []\n",
    "for n in range(1,100):\n",
    "    reg = KNeighborsRegressor(n)\n",
    "    mean_scores = []\n",
    "    for train, test in kf:\n",
    "        scores = []\n",
    "        reg.fit(X[train], y[train])\n",
    "        preds = reg.predict(X[test])\n",
    "        for i,j in zip(preds,y[test]):\n",
    "            score = kaggle_haversine(i,j)\n",
    "            scores.append(score)\n",
    "        mean_scores.append(np.mean(scores))\n",
    "    mean_scores_all.append(np.mean(mean_scores))"
   ]
  },
  {
   "cell_type": "code",
   "execution_count": 214,
   "metadata": {
    "collapsed": false
   },
   "outputs": [
    {
     "data": {
      "text/plain": [
       "[<matplotlib.lines.Line2D at 0x11da5f6d0>]"
      ]
     },
     "execution_count": 214,
     "metadata": {},
     "output_type": "execute_result"
    },
    {
     "data": {
      "image/png": "[encoded data removed]",
      "text/plain": [
       "<matplotlib.figure.Figure at 0x119da5090>"
      ]
     },
     "metadata": {},
     "output_type": "display_data"
    }
   ],
   "source": [
    "sns.plt.plot(range(1,100), mean_scores_all)"
   ]
  },
  {
   "cell_type": "code",
   "execution_count": 219,
   "metadata": {
    "collapsed": false
   },
   "outputs": [
    {
     "name": "stdout",
     "output_type": "stream",
     "text": [
      "3.64530296312 99\n"
     ]
    }
   ],
   "source": [
    "print min(mean_scores_all), range(1,100)[np.argmin(mean_scores_all)]"
   ]
  },
  {
   "cell_type": "markdown",
   "metadata": {},
   "source": [
    "KNN isn't so great. It's surprising that the prediction quality still gets better with increasing numbers of neighbors. I did this search with up to 1000 neighbors and it seemed to be getting asymptotically better. There must be something off about this."
   ]
  },
  {
   "cell_type": "markdown",
   "metadata": {},
   "source": [
    "At this point I will begin using a larger subset of the data to see how more training examples affects the results. I can also submit my data on the test samples to the kaggle site to see how they compare, however I'm not at that point yet. In addition, I would like to try a few other things, such as initially clustering the data and looking at how they separate. It would be interesting to try clustering and then running separate regressors on the clusters to see how well they each behave when trained on \"like\" samples. Perhaps a certain subset of these samples are easier to predict."
   ]
  },
  {
   "cell_type": "markdown",
   "metadata": {},
   "source": [
    "###t-SNE manifold dimensionality reduction/clustering"
   ]
  },
  {
   "cell_type": "code",
   "execution_count": 268,
   "metadata": {
    "collapsed": true
   },
   "outputs": [],
   "source": [
    "from sklearn.manifold import TSNE"
   ]
  },
  {
   "cell_type": "code",
   "execution_count": 270,
   "metadata": {
    "collapsed": true
   },
   "outputs": [],
   "source": [
    "tsne = TSNE(random_state=1)\n",
    "X_tsne = tsne.fit_transform(X)"
   ]
  },
  {
   "cell_type": "code",
   "execution_count": 278,
   "metadata": {
    "collapsed": false
   },
   "outputs": [
    {
     "data": {
      "text/plain": [
       "<matplotlib.collections.PathCollection at 0x11faec650>"
      ]
     },
     "execution_count": 278,
     "metadata": {},
     "output_type": "execute_result"
    },
    {
     "data": {
      "image/png": "[encoded data removed]",
      "text/plain": [
       "<matplotlib.figure.Figure at 0x11fb98490>"
      ]
     },
     "metadata": {},
     "output_type": "display_data"
    }
   ],
   "source": [
    "sns.plt.scatter(X_tsne[:,0], X_tsne[:,1], c = 'orange', s = 10)"
   ]
  },
  {
   "cell_type": "code",
   "execution_count": 289,
   "metadata": {
    "collapsed": true
   },
   "outputs": [],
   "source": [
    "from sklearn.cluster import SpectralClustering"
   ]
  },
  {
   "cell_type": "code",
   "execution_count": 315,
   "metadata": {
    "collapsed": false
   },
   "outputs": [],
   "source": [
    "clust = SpectralClustering(n_clusters=4, random_state=1)"
   ]
  },
  {
   "cell_type": "code",
   "execution_count": 316,
   "metadata": {
    "collapsed": false
   },
   "outputs": [],
   "source": [
    "X_specs_lab = clust.fit_predict(X)"
   ]
  },
  {
   "cell_type": "code",
   "execution_count": 328,
   "metadata": {
    "collapsed": false
   },
   "outputs": [
    {
     "data": {
      "text/plain": [
       "<matplotlib.collections.PathCollection at 0x11cc83c10>"
      ]
     },
     "execution_count": 328,
     "metadata": {},
     "output_type": "execute_result"
    },
    {
     "data": {
      "image/png": "[encoded data removed]",
      "text/plain": [
       "<matplotlib.figure.Figure at 0x11fc819d0>"
      ]
     },
     "metadata": {},
     "output_type": "display_data"
    }
   ],
   "source": [
    "fig, ax = sns.plt.subplots()\n",
    "pal = sns.color_palette('Set3', len(np.unique(X_specs_lab)))\n",
    "sns.plt.scatter(X_tsne[:,0], X_tsne[:,1], c = [pal[i] for i in X_specs_lab], s = 15)"
   ]
  },
  {
   "cell_type": "markdown",
   "metadata": {},
   "source": [
    "Not much interesting here. The clustering doesn't help much with the visualization. While the t-SNE representation is intriguing and suggestive of linear relationships within the data, it does not break down into obvious clusters. There are two possible clusters within the center of the t-SNE graph however it is difficult to interpret these in higher dimensional space. The next step is really just to add more data to the training set and see how that affects the predictions.\n",
    "\n",
    "UPDATE:\n",
    "The plot above may actually be hinting at the layout of the city of Porto, which has a large highway that surrounds it and many smaller internal roads.\n",
    "<img src=http://upload.wikimedia.org/wikipedia/commons/c/c3/VCI.svg width=30% height=30% style='float:left'>"
   ]
  },
  {
   "cell_type": "markdown",
   "metadata": {},
   "source": [
    "###Use more data"
   ]
  },
  {
   "cell_type": "code",
   "execution_count": 329,
   "metadata": {
    "collapsed": false
   },
   "outputs": [
    {
     "name": "stdout",
     "output_type": "stream",
     "text": [
      "<class 'pandas.core.frame.DataFrame'>\n",
      "Int64Index: 1710670 entries, 0 to 1710669\n",
      "Data columns (total 9 columns):\n",
      "TRIP_ID         int64\n",
      "CALL_TYPE       object\n",
      "ORIGIN_CALL     float64\n",
      "ORIGIN_STAND    float64\n",
      "TAXI_ID         int64\n",
      "TIMESTAMP       int64\n",
      "DAY_TYPE        object\n",
      "MISSING_DATA    bool\n",
      "POLYLINE        object\n",
      "dtypes: bool(1), float64(2), int64(3), object(3)\n",
      "memory usage: 119.1+ MB\n",
      "None\n",
      "<class 'pandas.core.frame.DataFrame'>\n",
      "Int64Index: 1704769 entries, 0 to 1710669\n",
      "Data columns (total 9 columns):\n",
      "TRIP_ID         int64\n",
      "CALL_TYPE       object\n",
      "ORIGIN_CALL     float64\n",
      "ORIGIN_STAND    float64\n",
      "TAXI_ID         int64\n",
      "TIMESTAMP       int64\n",
      "DAY_TYPE        object\n",
      "MISSING_DATA    bool\n",
      "POLYLINE        object\n",
      "dtypes: bool(1), float64(2), int64(3), object(3)\n",
      "memory usage: 118.7+ MB\n",
      "None\n"
     ]
    }
   ],
   "source": [
    "taxi_full = pd.read_csv('train.csv')\n",
    "print taxi_full.info()\n",
    "taxi_full.POLYLINE = taxi_full.POLYLINE.apply(f)\n",
    "taxi_full.dropna(axis = 'rows', subset = ['POLYLINE'], inplace = True)\n",
    "print taxi_full.info()"
   ]
  },
  {
   "cell_type": "code",
   "execution_count": 339,
   "metadata": {
    "collapsed": false
   },
   "outputs": [],
   "source": [
    "taxi_full.fillna(value = 0, inplace=True)\n",
    "X_full = taxi_full.drop(['POLYLINE', 'TRIP_ID', 'MISSING_DATA'], axis = 'columns')\n",
    "X_full = pd.get_dummies(X_full, columns=['CALL_TYPE', 'DAY_TYPE'])\n",
    "\n",
    "def trunc_plines(cell): \n",
    "    '''Truncate trajectories to roughly half their total length, \n",
    "    unless they are too short, then deal with them by doing nothing or repeat the origin twice.'''\n",
    "    len_cell = len(cell)\n",
    "    if len_cell > 2:\n",
    "        ret_cell = np.vstack((cell[:(len_cell//2)+1, :], np.atleast_2d(cell[-1])))\n",
    "        return ret_cell\n",
    "    elif len_cell == 1:\n",
    "        ret_cell = np.vstack((cell, cell))\n",
    "        return ret_cell\n",
    "    else:\n",
    "        return cell\n",
    "\n",
    "plines_full = taxi_full.POLYLINE.apply(trunc_plines)\n",
    "ori_full = np.array([k[0] for k in plines_full])\n",
    "midp_full = np.array([i[-2] for i in plines_full])\n",
    "dest_full = [j[-1] for j in plines_full]\n",
    "X_full['MID_LAT'] = midp_full[:,0]\n",
    "X_full['MID_LON'] = midp_full[:,1]\n",
    "X_full['ORI_LAT'] = ori_full[:,0]\n",
    "X_full['ORI_LON'] = ori_full[:,1]\n",
    "y_full = np.array(dest_full).reshape((-1,2))\n",
    "X_full = X_full.values"
   ]
  },
  {
   "cell_type": "code",
   "execution_count": 333,
   "metadata": {
    "collapsed": true
   },
   "outputs": [],
   "source": [
    "import itertools, gc"
   ]
  },
  {
   "cell_type": "code",
   "execution_count": 342,
   "metadata": {
    "collapsed": false
   },
   "outputs": [
    {
     "name": "stdout",
     "output_type": "stream",
     "text": [
      "[2.2593086801180591, 2.2291029424634057, 2.2181322398752177, 2.199430291498345, 2.1571248063929027, 2.1654767608870671, 2.153372522761146, 2.1850453508167855, 2.2557341604768144, 2.2822981329753764]\n"
     ]
    }
   ],
   "source": [
    "kf = KFold(len(X_full), n_folds=10, random_state=1)\n",
    "mean_scores_full = []\n",
    "reg = ExtraTreesRegressor(n_estimators=1000, max_depth=19, random_state=1, n_jobs = -1)\n",
    "for train, test in kf:\n",
    "    scores = []\n",
    "    reg.fit(X_full[train], y_full[train])\n",
    "    preds = reg.predict(X_full[test])\n",
    "    for i,j in itertools.izip(preds,y_full[test]):\n",
    "        score = kaggle_haversine(i,j)\n",
    "        scores.append(score)\n",
    "    mean_scores_full.append(np.mean(scores))\n",
    "print mean_scores_full"
   ]
  },
  {
   "cell_type": "code",
   "execution_count": 343,
   "metadata": {
    "collapsed": false
   },
   "outputs": [
    {
     "data": {
      "text/plain": [
       "2.210502588826512"
      ]
     },
     "execution_count": 343,
     "metadata": {},
     "output_type": "execute_result"
    }
   ],
   "source": [
    "np.mean(mean_scores_full)"
   ]
  },
  {
   "cell_type": "markdown",
   "metadata": {},
   "source": [
    "Compared to the kaggle scores this is actually pretty good. Just as a first pass I'll submit results based on the last regressor that was trained in the above loop and see how they do on the leaderboard..."
   ]
  },
  {
   "cell_type": "code",
   "execution_count": 348,
   "metadata": {
    "collapsed": false
   },
   "outputs": [
    {
     "name": "stdout",
     "output_type": "stream",
     "text": [
      "<class 'pandas.core.frame.DataFrame'>\n",
      "Int64Index: 320 entries, 0 to 319\n",
      "Data columns (total 9 columns):\n",
      "TRIP_ID         320 non-null object\n",
      "CALL_TYPE       320 non-null object\n",
      "ORIGIN_CALL     72 non-null float64\n",
      "ORIGIN_STAND    123 non-null float64\n",
      "TAXI_ID         320 non-null int64\n",
      "TIMESTAMP       320 non-null int64\n",
      "DAY_TYPE        320 non-null object\n",
      "MISSING_DATA    320 non-null bool\n",
      "POLYLINE        320 non-null object\n",
      "dtypes: bool(1), float64(2), int64(2), object(4)\n",
      "memory usage: 22.8+ KB\n",
      "None\n",
      "\n",
      "<class 'pandas.core.frame.DataFrame'>\n",
      "Int64Index: 320 entries, 0 to 319\n",
      "Data columns (total 9 columns):\n",
      "TRIP_ID         320 non-null object\n",
      "CALL_TYPE       320 non-null object\n",
      "ORIGIN_CALL     320 non-null float64\n",
      "ORIGIN_STAND    320 non-null float64\n",
      "TAXI_ID         320 non-null int64\n",
      "TIMESTAMP       320 non-null int64\n",
      "DAY_TYPE        320 non-null object\n",
      "MISSING_DATA    320 non-null bool\n",
      "POLYLINE        320 non-null object\n",
      "dtypes: bool(1), float64(2), int64(2), object(4)\n",
      "memory usage: 22.8+ KB\n",
      "None\n"
     ]
    }
   ],
   "source": [
    "taxi_test = pd.read_csv('test.csv')\n",
    "print taxi_test.info()\n",
    "taxi_test.POLYLINE = taxi_test.POLYLINE.apply(f)\n",
    "taxi_test.dropna(axis = 'rows', subset = ['POLYLINE'], inplace = True)\n",
    "\n",
    "taxi_test.fillna(value = 0, inplace=True)\n",
    "print '\\n',taxi_test.info()\n",
    "\n",
    "trip_ID = taxi_test.TRIP_ID\n",
    "X_test = taxi_test.drop(['POLYLINE', 'TRIP_ID', 'MISSING_DATA'], axis = 'columns')\n",
    "X_test = pd.get_dummies(X_test, columns=['CALL_TYPE', 'DAY_TYPE'])\n",
    "\n",
    "plines_test = taxi_test.POLYLINE.apply(trunc_plines)\n",
    "ori_test = np.array([k[0] for k in plines_test])\n",
    "midp_test = np.array([i[-2] for i in plines_test])\n",
    "dest_test = [j[-1] for j in plines_test]\n",
    "X_test['MID_LAT'] = midp_test[:,0]\n",
    "X_test['MID_LON'] = midp_test[:,1]\n",
    "X_test['ORI_LAT'] = ori_test[:,0]\n",
    "X_test['ORI_LON'] = ori_test[:,1]\n",
    "y_test = np.array(dest_test).reshape((-1,2))\n",
    "X_test = X_test.values"
   ]
  },
  {
   "cell_type": "code",
   "execution_count": 349,
   "metadata": {
    "collapsed": true
   },
   "outputs": [],
   "source": [
    "preds = reg.predict(X_test)"
   ]
  },
  {
   "cell_type": "code",
   "execution_count": 357,
   "metadata": {
    "collapsed": false
   },
   "outputs": [],
   "source": [
    "with open('submission.csv', 'w') as sub:\n",
    "    sub.write('\"TRIP_ID\",\"LATITUDE\",\"LONGITUDE\"\\n')\n",
    "    for c in itertools.izip(trip_ID,preds):\n",
    "        write = '\"{}\",{:.6f},{:.6f}\\n'.format(c[0],c[1][1],c[1][0])\n",
    "        sub.write(write)"
   ]
  },
  {
   "cell_type": "markdown",
   "metadata": {},
   "source": [
    "With my submission evaluated on Kaggle my results are given a score of about 3.519, which is significantly higher deviation than I saw with cross-validation. Perhaps the test set is known to be a difficult set of predictions to make?"
   ]
  },
  {
   "cell_type": "code",
   "execution_count": null,
   "metadata": {
    "collapsed": true
   },
   "outputs": [],
   "source": []
  }
 ],
 "metadata": {
  "kernelspec": {
   "display_name": "Python 2",
   "language": "python",
   "name": "python2"
  },
  "language_info": {
   "codemirror_mode": {
    "name": "ipython",
    "version": 2
   },
   "file_extension": ".py",
   "mimetype": "text/x-python",
   "name": "python",
   "nbconvert_exporter": "python",
   "pygments_lexer": "ipython2",
   "version": "2.7.9"
  }
 },
 "nbformat": 4,
 "nbformat_minor": 0
}
