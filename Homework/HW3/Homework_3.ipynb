{
 "cells": [
  {
   "cell_type": "markdown",
   "metadata": {},
   "source": [
    "#Homework 3: Decision trees"
   ]
  },
  {
   "cell_type": "code",
   "execution_count": 92,
   "metadata": {
    "collapsed": true
   },
   "outputs": [],
   "source": [
    "from __future__ import division\n",
    "import numpy as np\n",
    "import pandas as pd\n",
    "import matplotlib.pyplot as plt\n",
    "import seaborn as sns"
   ]
  },
  {
   "cell_type": "markdown",
   "metadata": {},
   "source": [
    "####1. Use the file bank.csv to explore the dataset. Observe the features: Are they numbers? Are they strings? Are they binary? Are they continuous?"
   ]
  },
  {
   "cell_type": "code",
   "execution_count": 93,
   "metadata": {
    "collapsed": false,
    "scrolled": false
   },
   "outputs": [
    {
     "data": {
      "text/html": [
       "<div style=\"max-height:1000px;max-width:1500px;overflow:auto;\">\n",
       "<table border=\"1\" class=\"dataframe\">\n",
       "  <thead>\n",
       "    <tr style=\"text-align: right;\">\n",
       "      <th></th>\n",
       "      <th>age</th>\n",
       "      <th>job</th>\n",
       "      <th>marital</th>\n",
       "      <th>education</th>\n",
       "      <th>default</th>\n",
       "      <th>balance</th>\n",
       "      <th>housing</th>\n",
       "      <th>loan</th>\n",
       "      <th>contact</th>\n",
       "      <th>day</th>\n",
       "      <th>month</th>\n",
       "      <th>duration</th>\n",
       "      <th>campaign</th>\n",
       "      <th>pdays</th>\n",
       "      <th>previous</th>\n",
       "      <th>poutcome</th>\n",
       "      <th>y</th>\n",
       "    </tr>\n",
       "  </thead>\n",
       "  <tbody>\n",
       "    <tr>\n",
       "      <th>0</th>\n",
       "      <td> 30</td>\n",
       "      <td>  unemployed</td>\n",
       "      <td> married</td>\n",
       "      <td>   primary</td>\n",
       "      <td> no</td>\n",
       "      <td> 1787</td>\n",
       "      <td>  no</td>\n",
       "      <td>  no</td>\n",
       "      <td> cellular</td>\n",
       "      <td> 19</td>\n",
       "      <td> oct</td>\n",
       "      <td>  79</td>\n",
       "      <td> 1</td>\n",
       "      <td>  -1</td>\n",
       "      <td> 0</td>\n",
       "      <td> unknown</td>\n",
       "      <td> no</td>\n",
       "    </tr>\n",
       "    <tr>\n",
       "      <th>1</th>\n",
       "      <td> 33</td>\n",
       "      <td>    services</td>\n",
       "      <td> married</td>\n",
       "      <td> secondary</td>\n",
       "      <td> no</td>\n",
       "      <td> 4789</td>\n",
       "      <td> yes</td>\n",
       "      <td> yes</td>\n",
       "      <td> cellular</td>\n",
       "      <td> 11</td>\n",
       "      <td> may</td>\n",
       "      <td> 220</td>\n",
       "      <td> 1</td>\n",
       "      <td> 339</td>\n",
       "      <td> 4</td>\n",
       "      <td> failure</td>\n",
       "      <td> no</td>\n",
       "    </tr>\n",
       "    <tr>\n",
       "      <th>2</th>\n",
       "      <td> 35</td>\n",
       "      <td>  management</td>\n",
       "      <td>  single</td>\n",
       "      <td>  tertiary</td>\n",
       "      <td> no</td>\n",
       "      <td> 1350</td>\n",
       "      <td> yes</td>\n",
       "      <td>  no</td>\n",
       "      <td> cellular</td>\n",
       "      <td> 16</td>\n",
       "      <td> apr</td>\n",
       "      <td> 185</td>\n",
       "      <td> 1</td>\n",
       "      <td> 330</td>\n",
       "      <td> 1</td>\n",
       "      <td> failure</td>\n",
       "      <td> no</td>\n",
       "    </tr>\n",
       "    <tr>\n",
       "      <th>3</th>\n",
       "      <td> 30</td>\n",
       "      <td>  management</td>\n",
       "      <td> married</td>\n",
       "      <td>  tertiary</td>\n",
       "      <td> no</td>\n",
       "      <td> 1476</td>\n",
       "      <td> yes</td>\n",
       "      <td> yes</td>\n",
       "      <td>  unknown</td>\n",
       "      <td>  3</td>\n",
       "      <td> jun</td>\n",
       "      <td> 199</td>\n",
       "      <td> 4</td>\n",
       "      <td>  -1</td>\n",
       "      <td> 0</td>\n",
       "      <td> unknown</td>\n",
       "      <td> no</td>\n",
       "    </tr>\n",
       "    <tr>\n",
       "      <th>4</th>\n",
       "      <td> 59</td>\n",
       "      <td> blue-collar</td>\n",
       "      <td> married</td>\n",
       "      <td> secondary</td>\n",
       "      <td> no</td>\n",
       "      <td>    0</td>\n",
       "      <td> yes</td>\n",
       "      <td>  no</td>\n",
       "      <td>  unknown</td>\n",
       "      <td>  5</td>\n",
       "      <td> may</td>\n",
       "      <td> 226</td>\n",
       "      <td> 1</td>\n",
       "      <td>  -1</td>\n",
       "      <td> 0</td>\n",
       "      <td> unknown</td>\n",
       "      <td> no</td>\n",
       "    </tr>\n",
       "  </tbody>\n",
       "</table>\n",
       "</div>"
      ],
      "text/plain": [
       "   age          job  marital  education default  balance housing loan  \\\n",
       "0   30   unemployed  married    primary      no     1787      no   no   \n",
       "1   33     services  married  secondary      no     4789     yes  yes   \n",
       "2   35   management   single   tertiary      no     1350     yes   no   \n",
       "3   30   management  married   tertiary      no     1476     yes  yes   \n",
       "4   59  blue-collar  married  secondary      no        0     yes   no   \n",
       "\n",
       "    contact  day month  duration  campaign  pdays  previous poutcome   y  \n",
       "0  cellular   19   oct        79         1     -1         0  unknown  no  \n",
       "1  cellular   11   may       220         1    339         4  failure  no  \n",
       "2  cellular   16   apr       185         1    330         1  failure  no  \n",
       "3   unknown    3   jun       199         4     -1         0  unknown  no  \n",
       "4   unknown    5   may       226         1     -1         0  unknown  no  "
      ]
     },
     "execution_count": 93,
     "metadata": {},
     "output_type": "execute_result"
    }
   ],
   "source": [
    "bank_csv = pd.read_csv('/Users/Bronco/Classes/General_assembly/DAT_SF_13/homework/HW3/bank.csv', sep = ';')\n",
    "bank_csv.head()"
   ]
  },
  {
   "cell_type": "code",
   "execution_count": 94,
   "metadata": {
    "collapsed": false
   },
   "outputs": [
    {
     "name": "stdout",
     "output_type": "stream",
     "text": [
      "<class 'pandas.core.frame.DataFrame'>\n",
      "Int64Index: 4521 entries, 0 to 4520\n",
      "Data columns (total 17 columns):\n",
      "age          4521 non-null int64\n",
      "job          4521 non-null object\n",
      "marital      4521 non-null object\n",
      "education    4521 non-null object\n",
      "default      4521 non-null object\n",
      "balance      4521 non-null int64\n",
      "housing      4521 non-null object\n",
      "loan         4521 non-null object\n",
      "contact      4521 non-null object\n",
      "day          4521 non-null int64\n",
      "month        4521 non-null object\n",
      "duration     4521 non-null int64\n",
      "campaign     4521 non-null int64\n",
      "pdays        4521 non-null int64\n",
      "previous     4521 non-null int64\n",
      "poutcome     4521 non-null object\n",
      "y            4521 non-null object\n",
      "dtypes: int64(7), object(10)\n",
      "memory usage: 635.8+ KB\n"
     ]
    }
   ],
   "source": [
    "bank_csv.info()"
   ]
  },
  {
   "cell_type": "markdown",
   "metadata": {},
   "source": [
    "The data consists of a mix of categorical and continuous variables. Some of the variables clearly fall into one or another category, however this is not always the case. For instance, education consists of the classes \"primary,\" \"secondary,\" and \"tertiary.\" These are provided as strings, however they clearly are ordered in some sense. A number of the variables are binary, but provided as \"yes/no\" strings. These can be converted to binary integers by mapping to 1 and -1 or 0. For categorical variables such as marital status or job, these are more difficult to deal with as they are not immediately convertible to unordered binary types. This can be accomplished, however, with the use of dummy variables and \"one-hot\" encoding. One variable that is particularly challenging in this dataset is the inclusion of months and days. Without a year it is not the most useful data as it cannot be clearly converted to a continuous integer, such as epoch time, since most comparison operators (<,>) are invalid on cyclical variables. In addition, the inclusion of the year would permit the inference of day of the week, which might be very significant. Whether or not it is a holiday might also be a good feature to include. Finally, as stated on the UCI page where the dataset is from, \"duration\" is a poor variable to include in the decision tree as it is highly dependent on the outcome (i.e. whether or not they purchased a loan). Since this algorithm aims to predict whether someone will purchase a loan before contacting them it does not make sense to include duration of the phone call in the decision about whether to contact them in the first place."
   ]
  },
  {
   "cell_type": "markdown",
   "metadata": {},
   "source": [
    "####2. Learn about label encoders at the following link (?) and use what you learn to transform the features to numerical features."
   ]
  },
  {
   "cell_type": "markdown",
   "metadata": {},
   "source": [
    "Label encoding is one of several techniques to handle unordered categorical data. Label encoding transforms labels (e.g. \"job\" in the current data set) into indices that refer back to the categories. The reason for this is that many machine learning algorithms do not work well with non-numerical data types. However, turning unordered categorical variables into ordered numerical variables implies a relationship among the categories that may be false. For instance, \"services,\" \"management,\" and \"blue collar\" may be transformed into 0, 1, and 2, respectively; however there is no reason to suppose \"blue collar\" > \"services.\" Therefore, another way to encode categorical variables is to turn the categories into a series of binary types, such that a column variable encoding $n$ categories would be transformed into $n-1$ new binary columns in a process called \"one-hot\" or \"one-of-K\" encoding. This is particularly useful for decission trees as it permits binary splits on multi-valued categorical data where each category is treated as an independent variable (i.e. `\"job\":\"blue collar\"` becomes `is_blue_collar: [0|1]`). In pandas, the `get_dummies` function implements \"one-hot\" encoding on categorical variables, generating $n$ new columns, one of which is redundent since a zero in $n-1$ columns always implies a 1 in the $n$th column."
   ]
  },
  {
   "cell_type": "code",
   "execution_count": 95,
   "metadata": {
    "collapsed": true
   },
   "outputs": [],
   "source": [
    "bank_csv2 = pd.get_dummies(bank_csv, columns = ['job', 'marital', 'contact', 'poutcome'])"
   ]
  },
  {
   "cell_type": "code",
   "execution_count": 96,
   "metadata": {
    "collapsed": false
   },
   "outputs": [],
   "source": [
    "bank_csv2.y = bank_csv2.y.map({'no':0,'yes':1})\n",
    "bank_csv2.education = bank_csv2.education.map({'unknown':0,'primary':1,'secondary':2,'tertiary':3})\n",
    "bank_csv2.housing = bank_csv2.housing.map({'no':0,'yes':1})\n",
    "bank_csv2.loan = bank_csv2.loan.map({'no':0,'yes':1})\n",
    "bank_csv2.default = bank_csv2.default.map({'no':0,'yes':1})\n",
    "bank_csv2.month = bank_csv.month.map({'jan':1,'feb':2,'mar':3,'apr':4,'may':5,'jun':6,'jul':7,'aug':8,'sep':9,'oct':10,'nov':11,'dec':12})"
   ]
  },
  {
   "cell_type": "code",
   "execution_count": 97,
   "metadata": {
    "collapsed": false
   },
   "outputs": [],
   "source": [
    "for c in bank_csv2.columns:\n",
    "    if 'unknown' in c:\n",
    "        bank_csv2.drop(c, axis = 1, inplace = True)"
   ]
  },
  {
   "cell_type": "code",
   "execution_count": 98,
   "metadata": {
    "collapsed": false
   },
   "outputs": [],
   "source": [
    "# This is not actually useful since the sklearn decision tree algorithm cannot deal with ambiguously ordered dates\n",
    "dt = pd.to_datetime(bank_csv2.day.astype(str) + '-' + bank_csv2.month.astype(str), format = '%d-%m')\n",
    "bank_csv2['datetime'] = dt\n",
    "bank_csv2.drop(['day','month'], axis = 1, inplace = True)"
   ]
  },
  {
   "cell_type": "markdown",
   "metadata": {},
   "source": [
    "####3. Build a decision tree model to predict whether a prospect will buy the product."
   ]
  },
  {
   "cell_type": "code",
   "execution_count": 99,
   "metadata": {
    "collapsed": false
   },
   "outputs": [],
   "source": [
    "from sklearn.tree import DecisionTreeClassifier\n",
    "from sklearn.cross_validation import train_test_split, cross_val_score"
   ]
  },
  {
   "cell_type": "code",
   "execution_count": 100,
   "metadata": {
    "collapsed": false
   },
   "outputs": [],
   "source": [
    "dtc = DecisionTreeClassifier(max_depth=8, criterion='gini', random_state=1)\n",
    "X_train, X_test, y_train, y_test = train_test_split(bank_csv2.drop(['datetime','y','duration'], axis = 1, inplace = False), bank_csv2.y, test_size = 0.33, random_state = 1)"
   ]
  },
  {
   "cell_type": "code",
   "execution_count": 101,
   "metadata": {
    "collapsed": false
   },
   "outputs": [
    {
     "data": {
      "text/plain": [
       "DecisionTreeClassifier(compute_importances=None, criterion='gini',\n",
       "            max_depth=8, max_features=None, max_leaf_nodes=None,\n",
       "            min_density=None, min_samples_leaf=1, min_samples_split=2,\n",
       "            random_state=1, splitter='best')"
      ]
     },
     "execution_count": 101,
     "metadata": {},
     "output_type": "execute_result"
    }
   ],
   "source": [
    "dtc.fit(X_train, y_train)"
   ]
  },
  {
   "cell_type": "code",
   "execution_count": 102,
   "metadata": {
    "collapsed": false
   },
   "outputs": [
    {
     "data": {
      "text/plain": [
       "0.87734584450402142"
      ]
     },
     "execution_count": 102,
     "metadata": {},
     "output_type": "execute_result"
    }
   ],
   "source": [
    "dtc.score(X_test, y_test)"
   ]
  },
  {
   "cell_type": "markdown",
   "metadata": {},
   "source": [
    "####4. Evaluate the accuracy of your decision tree model using cross validation."
   ]
  },
  {
   "cell_type": "code",
   "execution_count": 103,
   "metadata": {
    "collapsed": false
   },
   "outputs": [],
   "source": [
    "cvs = cross_val_score(dtc, \n",
    "                      bank_csv2.drop(['datetime','y','duration'], axis = 1, inplace = False), \n",
    "                      bank_csv2.y, \n",
    "                      cv = 20, \n",
    "                      n_jobs = -1\n",
    "                     )"
   ]
  },
  {
   "cell_type": "code",
   "execution_count": 104,
   "metadata": {
    "collapsed": false
   },
   "outputs": [
    {
     "data": {
      "text/plain": [
       "0.88033994776032143"
      ]
     },
     "execution_count": 104,
     "metadata": {},
     "output_type": "execute_result"
    }
   ],
   "source": [
    "np.mean(cvs)"
   ]
  },
  {
   "cell_type": "code",
   "execution_count": 127,
   "metadata": {
    "collapsed": false
   },
   "outputs": [],
   "source": [
    "depths = range(1,31)\n",
    "scores = []\n",
    "errs = []\n",
    "for max_depth in depths:\n",
    "    dtc = DecisionTreeClassifier(max_depth = max_depth, criterion = 'gini', random_state = 1)\n",
    "    cvs = cross_val_score(dtc, \n",
    "                          bank_csv2.drop(['datetime','y','duration'], axis = 1, inplace = False), \n",
    "                          bank_csv2.y, \n",
    "                          cv = 10, \n",
    "                          n_jobs = -1\n",
    "                         )\n",
    "    scores.append(np.mean(cvs))\n",
    "    errs.append(np.std(cvs, ddof = -1))"
   ]
  },
  {
   "cell_type": "code",
   "execution_count": 128,
   "metadata": {
    "collapsed": false
   },
   "outputs": [
    {
     "name": "stdout",
     "output_type": "stream",
     "text": [
      "1\n"
     ]
    },
    {
     "data": {
      "image/png": "[encoded data removed]",
      "text/plain": [
       "<matplotlib.figure.Figure at 0x112cad190>"
      ]
     },
     "metadata": {},
     "output_type": "display_data"
    }
   ],
   "source": [
    "%matplotlib inline\n",
    "sns.plt.errorbar(depths, scores, yerr = errs)\n",
    "print depths[np.argmax(np.array(scores))]"
   ]
  },
  {
   "cell_type": "code",
   "execution_count": 136,
   "metadata": {
    "collapsed": false
   },
   "outputs": [
    {
     "name": "stdout",
     "output_type": "stream",
     "text": [
      "0.892944773291\n"
     ]
    }
   ],
   "source": [
    "dtc = DecisionTreeClassifier(max_depth = 1, random_state = 1)\n",
    "cvs = cross_val_score(dtc, \n",
    "                      bank_csv2.drop(['datetime','y','duration'], axis = 1, inplace = False), \n",
    "                      bank_csv2.y, \n",
    "                      cv = 10, \n",
    "                      n_jobs = -1\n",
    "                     )\n",
    "print np.mean(cvs)"
   ]
  },
  {
   "cell_type": "code",
   "execution_count": 132,
   "metadata": {
    "collapsed": true
   },
   "outputs": [],
   "source": [
    "feature_cols = bank_csv2.drop(['datetime','y','duration'], axis = 1, inplace = False).columns"
   ]
  },
  {
   "cell_type": "code",
   "execution_count": 118,
   "metadata": {
    "collapsed": false
   },
   "outputs": [
    {
     "data": {
      "text/plain": [
       "True"
      ]
     },
     "execution_count": 118,
     "metadata": {},
     "output_type": "execute_result"
    }
   ],
   "source": [
    "from sklearn.externals.six import StringIO \n",
    "from sklearn.tree import export_graphviz\n",
    "import pydot\n",
    "dot_data = StringIO() \n",
    "export_graphviz(dtc, out_file=dot_data, feature_names = feature_cols) \n",
    "graph = pydot.graph_from_dot_data(dot_data.getvalue()) \n",
    "graph.write_png(\"Bank_tree_no_dur.png\")"
   ]
  },
  {
   "cell_type": "markdown",
   "metadata": {},
   "source": [
    "<img src=\"Bank_tree_no_dur.png\">"
   ]
  },
  {
   "cell_type": "code",
   "execution_count": 137,
   "metadata": {
    "collapsed": false
   },
   "outputs": [
    {
     "data": {
      "text/html": [
       "<div style=\"max-height:1000px;max-width:1500px;overflow:auto;\">\n",
       "<table border=\"1\" class=\"dataframe\">\n",
       "  <thead>\n",
       "    <tr style=\"text-align: right;\">\n",
       "      <th></th>\n",
       "      <th>Features</th>\n",
       "      <th>Importances</th>\n",
       "    </tr>\n",
       "  </thead>\n",
       "  <tbody>\n",
       "    <tr>\n",
       "      <th>27</th>\n",
       "      <td>  poutcome_success</td>\n",
       "      <td> 1</td>\n",
       "    </tr>\n",
       "    <tr>\n",
       "      <th>1 </th>\n",
       "      <td>         education</td>\n",
       "      <td> 0</td>\n",
       "    </tr>\n",
       "    <tr>\n",
       "      <th>26</th>\n",
       "      <td>    poutcome_other</td>\n",
       "      <td> 0</td>\n",
       "    </tr>\n",
       "    <tr>\n",
       "      <th>25</th>\n",
       "      <td>  poutcome_failure</td>\n",
       "      <td> 0</td>\n",
       "    </tr>\n",
       "    <tr>\n",
       "      <th>24</th>\n",
       "      <td> contact_telephone</td>\n",
       "      <td> 0</td>\n",
       "    </tr>\n",
       "  </tbody>\n",
       "</table>\n",
       "</div>"
      ],
      "text/plain": [
       "             Features  Importances\n",
       "27   poutcome_success            1\n",
       "1           education            0\n",
       "26     poutcome_other            0\n",
       "25   poutcome_failure            0\n",
       "24  contact_telephone            0"
      ]
     },
     "execution_count": 137,
     "metadata": {},
     "output_type": "execute_result"
    }
   ],
   "source": [
    "dtc.fit(X_train, y_train)\n",
    "pd.DataFrame({'Features':feature_cols,\n",
    "              'Importances':dtc.feature_importances_}).sort('Importances', \n",
    "                                                             ascending = False, \n",
    "                                                             axis = 0).head()"
   ]
  },
  {
   "cell_type": "markdown",
   "metadata": {},
   "source": [
    "Since the variable \"poutcome_success\" seems to explain the majority of future success it would be good to see how dropping \"poutcome\" affects the tree:"
   ]
  },
  {
   "cell_type": "code",
   "execution_count": 270,
   "metadata": {
    "collapsed": true
   },
   "outputs": [],
   "source": [
    "depths = range(1,31)\n",
    "scores = []\n",
    "errs = []\n",
    "for max_depth in depths:\n",
    "    dtc = DecisionTreeClassifier(max_depth = max_depth, criterion = 'gini', random_state = 1)\n",
    "    cvs = cross_val_score(dtc, \n",
    "                          bank_csv2.drop(['datetime',\n",
    "                                          'y',\n",
    "                                          'duration',\n",
    "                                          'poutcome_success',\n",
    "                                          'poutcome_other', \n",
    "                                          'poutcome_failure'], \n",
    "                                           axis = 1, inplace = False), \n",
    "                          bank_csv2.y, \n",
    "                          cv = 10, \n",
    "                          n_jobs = -1)\n",
    "    scores.append(np.mean(cvs))\n",
    "    errs.append(np.std(cvs, ddof = -1))"
   ]
  },
  {
   "cell_type": "code",
   "execution_count": 265,
   "metadata": {
    "collapsed": false
   },
   "outputs": [
    {
     "name": "stdout",
     "output_type": "stream",
     "text": [
      "4\n"
     ]
    },
    {
     "data": {
      "image/png": "[encoded data removed]",
      "text/plain": [
       "<matplotlib.figure.Figure at 0x113c16290>"
      ]
     },
     "metadata": {},
     "output_type": "display_data"
    }
   ],
   "source": [
    "sns.plt.errorbar(depths, scores, yerr = errs)\n",
    "print depths[np.argmax(np.array(scores))]"
   ]
  },
  {
   "cell_type": "code",
   "execution_count": 266,
   "metadata": {
    "collapsed": true
   },
   "outputs": [],
   "source": [
    "features = bank_csv2.drop(['datetime',\n",
    "                           'y',\n",
    "                           'duration',\n",
    "                           'poutcome_success',\n",
    "                           'poutcome_other', \n",
    "                           'poutcome_failure'], \n",
    "                            axis = 1, inplace = False)\n",
    "\n",
    "feature_cols = features.columns"
   ]
  },
  {
   "cell_type": "code",
   "execution_count": 312,
   "metadata": {
    "collapsed": false
   },
   "outputs": [
    {
     "data": {
      "text/html": [
       "<div style=\"max-height:1000px;max-width:1500px;overflow:auto;\">\n",
       "<table border=\"1\" class=\"dataframe\">\n",
       "  <thead>\n",
       "    <tr style=\"text-align: right;\">\n",
       "      <th></th>\n",
       "      <th>mean importances</th>\n",
       "      <th>std importances</th>\n",
       "    </tr>\n",
       "  </thead>\n",
       "  <tbody>\n",
       "    <tr>\n",
       "      <th>pdays</th>\n",
       "      <td> 0.580828</td>\n",
       "      <td> 0.023029</td>\n",
       "    </tr>\n",
       "    <tr>\n",
       "      <th>age</th>\n",
       "      <td> 0.159846</td>\n",
       "      <td> 0.021623</td>\n",
       "    </tr>\n",
       "    <tr>\n",
       "      <th>housing</th>\n",
       "      <td> 0.073151</td>\n",
       "      <td> 0.008014</td>\n",
       "    </tr>\n",
       "    <tr>\n",
       "      <th>contact_cellular</th>\n",
       "      <td> 0.059644</td>\n",
       "      <td> 0.008028</td>\n",
       "    </tr>\n",
       "    <tr>\n",
       "      <th>balance</th>\n",
       "      <td> 0.050637</td>\n",
       "      <td> 0.020410</td>\n",
       "    </tr>\n",
       "    <tr>\n",
       "      <th>marital_married</th>\n",
       "      <td> 0.023018</td>\n",
       "      <td> 0.013038</td>\n",
       "    </tr>\n",
       "    <tr>\n",
       "      <th>marital_divorced</th>\n",
       "      <td> 0.022556</td>\n",
       "      <td> 0.012839</td>\n",
       "    </tr>\n",
       "    <tr>\n",
       "      <th>job_retired</th>\n",
       "      <td> 0.021656</td>\n",
       "      <td> 0.005209</td>\n",
       "    </tr>\n",
       "    <tr>\n",
       "      <th>job_admin.</th>\n",
       "      <td> 0.003776</td>\n",
       "      <td> 0.008014</td>\n",
       "    </tr>\n",
       "    <tr>\n",
       "      <th>job_student</th>\n",
       "      <td> 0.002790</td>\n",
       "      <td> 0.008823</td>\n",
       "    </tr>\n",
       "    <tr>\n",
       "      <th>contact_telephone</th>\n",
       "      <td> 0.002097</td>\n",
       "      <td> 0.006631</td>\n",
       "    </tr>\n",
       "    <tr>\n",
       "      <th>job_entrepreneur</th>\n",
       "      <td> 0.000000</td>\n",
       "      <td> 0.000000</td>\n",
       "    </tr>\n",
       "  </tbody>\n",
       "</table>\n",
       "</div>"
      ],
      "text/plain": [
       "                   mean importances  std importances\n",
       "pdays                      0.580828         0.023029\n",
       "age                        0.159846         0.021623\n",
       "housing                    0.073151         0.008014\n",
       "contact_cellular           0.059644         0.008028\n",
       "balance                    0.050637         0.020410\n",
       "marital_married            0.023018         0.013038\n",
       "marital_divorced           0.022556         0.012839\n",
       "job_retired                0.021656         0.005209\n",
       "job_admin.                 0.003776         0.008014\n",
       "job_student                0.002790         0.008823\n",
       "contact_telephone          0.002097         0.006631\n",
       "job_entrepreneur           0.000000         0.000000"
      ]
     },
     "execution_count": 312,
     "metadata": {},
     "output_type": "execute_result"
    }
   ],
   "source": [
    "from sklearn.cross_validation import StratifiedKFold\n",
    "skf = StratifiedKFold(bank_csv2.y, n_folds = 10, random_state = 1)\n",
    "dtc = DecisionTreeClassifier(max_depth = 4, random_state = 1)\n",
    "df = pd.DataFrame(index = feature_cols)\n",
    "for train, test in skf:\n",
    "    dtc.fit(features.iloc[train],bank_csv2.y[train])\n",
    "    importances = dtc.feature_importances_\n",
    "    temp_s = pd.Series(importances, index = feature_cols)\n",
    "    df = pd.concat([df,temp_s], axis = 1 )\n",
    "stds = df.std(axis = 1)\n",
    "means = df.mean(axis = 1)\n",
    "df2 = pd.concat([means,stds], axis = 1).sort(ascending = False, columns = 0)\n",
    "df2.columns = ['mean importances', 'std importances']\n",
    "df2.head(12)"
   ]
  },
  {
   "cell_type": "code",
   "execution_count": 313,
   "metadata": {
    "collapsed": false
   },
   "outputs": [
    {
     "data": {
      "text/plain": [
       "0.8854226493973314"
      ]
     },
     "execution_count": 313,
     "metadata": {},
     "output_type": "execute_result"
    }
   ],
   "source": [
    "dtc = DecisionTreeClassifier(max_depth=4, criterion='gini', random_state=1)\n",
    "cvs = cross_val_score(dtc2,\n",
    "                features, \n",
    "                bank_csv2.y, \n",
    "                cv = 10)\n",
    "\n",
    "cvs.mean()"
   ]
  },
  {
   "cell_type": "markdown",
   "metadata": {},
   "source": [
    "Dropping \"poutcome\" reveals that \"pdays\" and \"age\" become more significant predictors, although the total model generalization score decreases somewhat."
   ]
  },
  {
   "cell_type": "code",
   "execution_count": 315,
   "metadata": {
    "collapsed": false
   },
   "outputs": [
    {
     "data": {
      "text/plain": [
       "True"
      ]
     },
     "execution_count": 315,
     "metadata": {},
     "output_type": "execute_result"
    }
   ],
   "source": [
    "from sklearn.externals.six import StringIO \n",
    "from sklearn.tree import export_graphviz\n",
    "import pydot\n",
    "dtc.fit(features, bank_csv2.y)\n",
    "dot_data = StringIO() \n",
    "export_graphviz(dtc, out_file=dot_data, feature_names = feature_cols) \n",
    "graph = pydot.graph_from_dot_data(dot_data.getvalue()) \n",
    "graph.write_png(\"Bank_tree_no_dur_pout.png\")"
   ]
  },
  {
   "cell_type": "markdown",
   "metadata": {},
   "source": [
    "<img src=\"Bank_tree_no_dur_pout.png\" height = \"180%\" width = \"180%\">"
   ]
  },
  {
   "cell_type": "markdown",
   "metadata": {},
   "source": [
    "####5. Repeat the analysis and cross validation with the file bank-additional-full.csv. How does the performance of the model change (with the additional training examples and additional features)?"
   ]
  },
  {
   "cell_type": "code",
   "execution_count": 316,
   "metadata": {
    "collapsed": false
   },
   "outputs": [
    {
     "data": {
      "text/html": [
       "<div style=\"max-height:1000px;max-width:1500px;overflow:auto;\">\n",
       "<table border=\"1\" class=\"dataframe\">\n",
       "  <thead>\n",
       "    <tr style=\"text-align: right;\">\n",
       "      <th></th>\n",
       "      <th>age</th>\n",
       "      <th>job</th>\n",
       "      <th>marital</th>\n",
       "      <th>education</th>\n",
       "      <th>default</th>\n",
       "      <th>housing</th>\n",
       "      <th>loan</th>\n",
       "      <th>contact</th>\n",
       "      <th>month</th>\n",
       "      <th>day_of_week</th>\n",
       "      <th>...</th>\n",
       "      <th>campaign</th>\n",
       "      <th>pdays</th>\n",
       "      <th>previous</th>\n",
       "      <th>poutcome</th>\n",
       "      <th>emp.var.rate</th>\n",
       "      <th>cons.price.idx</th>\n",
       "      <th>cons.conf.idx</th>\n",
       "      <th>euribor3m</th>\n",
       "      <th>nr.employed</th>\n",
       "      <th>y</th>\n",
       "    </tr>\n",
       "  </thead>\n",
       "  <tbody>\n",
       "    <tr>\n",
       "      <th>0</th>\n",
       "      <td> 56</td>\n",
       "      <td>   housemaid</td>\n",
       "      <td> married</td>\n",
       "      <td>            basic.4y</td>\n",
       "      <td>      no</td>\n",
       "      <td>  no</td>\n",
       "      <td>  no</td>\n",
       "      <td> telephone</td>\n",
       "      <td> may</td>\n",
       "      <td> mon</td>\n",
       "      <td>...</td>\n",
       "      <td> 1</td>\n",
       "      <td> 999</td>\n",
       "      <td> 0</td>\n",
       "      <td> nonexistent</td>\n",
       "      <td> 1.1</td>\n",
       "      <td> 93.994</td>\n",
       "      <td>-36.4</td>\n",
       "      <td> 4.857</td>\n",
       "      <td> 5191</td>\n",
       "      <td> no</td>\n",
       "    </tr>\n",
       "    <tr>\n",
       "      <th>1</th>\n",
       "      <td> 57</td>\n",
       "      <td>    services</td>\n",
       "      <td> married</td>\n",
       "      <td>         high.school</td>\n",
       "      <td> unknown</td>\n",
       "      <td>  no</td>\n",
       "      <td>  no</td>\n",
       "      <td> telephone</td>\n",
       "      <td> may</td>\n",
       "      <td> mon</td>\n",
       "      <td>...</td>\n",
       "      <td> 1</td>\n",
       "      <td> 999</td>\n",
       "      <td> 0</td>\n",
       "      <td> nonexistent</td>\n",
       "      <td> 1.1</td>\n",
       "      <td> 93.994</td>\n",
       "      <td>-36.4</td>\n",
       "      <td> 4.857</td>\n",
       "      <td> 5191</td>\n",
       "      <td> no</td>\n",
       "    </tr>\n",
       "    <tr>\n",
       "      <th>2</th>\n",
       "      <td> 37</td>\n",
       "      <td>    services</td>\n",
       "      <td> married</td>\n",
       "      <td>         high.school</td>\n",
       "      <td>      no</td>\n",
       "      <td> yes</td>\n",
       "      <td>  no</td>\n",
       "      <td> telephone</td>\n",
       "      <td> may</td>\n",
       "      <td> mon</td>\n",
       "      <td>...</td>\n",
       "      <td> 1</td>\n",
       "      <td> 999</td>\n",
       "      <td> 0</td>\n",
       "      <td> nonexistent</td>\n",
       "      <td> 1.1</td>\n",
       "      <td> 93.994</td>\n",
       "      <td>-36.4</td>\n",
       "      <td> 4.857</td>\n",
       "      <td> 5191</td>\n",
       "      <td> no</td>\n",
       "    </tr>\n",
       "    <tr>\n",
       "      <th>3</th>\n",
       "      <td> 40</td>\n",
       "      <td>      admin.</td>\n",
       "      <td> married</td>\n",
       "      <td>            basic.6y</td>\n",
       "      <td>      no</td>\n",
       "      <td>  no</td>\n",
       "      <td>  no</td>\n",
       "      <td> telephone</td>\n",
       "      <td> may</td>\n",
       "      <td> mon</td>\n",
       "      <td>...</td>\n",
       "      <td> 1</td>\n",
       "      <td> 999</td>\n",
       "      <td> 0</td>\n",
       "      <td> nonexistent</td>\n",
       "      <td> 1.1</td>\n",
       "      <td> 93.994</td>\n",
       "      <td>-36.4</td>\n",
       "      <td> 4.857</td>\n",
       "      <td> 5191</td>\n",
       "      <td> no</td>\n",
       "    </tr>\n",
       "    <tr>\n",
       "      <th>4</th>\n",
       "      <td> 56</td>\n",
       "      <td>    services</td>\n",
       "      <td> married</td>\n",
       "      <td>         high.school</td>\n",
       "      <td>      no</td>\n",
       "      <td>  no</td>\n",
       "      <td> yes</td>\n",
       "      <td> telephone</td>\n",
       "      <td> may</td>\n",
       "      <td> mon</td>\n",
       "      <td>...</td>\n",
       "      <td> 1</td>\n",
       "      <td> 999</td>\n",
       "      <td> 0</td>\n",
       "      <td> nonexistent</td>\n",
       "      <td> 1.1</td>\n",
       "      <td> 93.994</td>\n",
       "      <td>-36.4</td>\n",
       "      <td> 4.857</td>\n",
       "      <td> 5191</td>\n",
       "      <td> no</td>\n",
       "    </tr>\n",
       "    <tr>\n",
       "      <th>5</th>\n",
       "      <td> 45</td>\n",
       "      <td>    services</td>\n",
       "      <td> married</td>\n",
       "      <td>            basic.9y</td>\n",
       "      <td> unknown</td>\n",
       "      <td>  no</td>\n",
       "      <td>  no</td>\n",
       "      <td> telephone</td>\n",
       "      <td> may</td>\n",
       "      <td> mon</td>\n",
       "      <td>...</td>\n",
       "      <td> 1</td>\n",
       "      <td> 999</td>\n",
       "      <td> 0</td>\n",
       "      <td> nonexistent</td>\n",
       "      <td> 1.1</td>\n",
       "      <td> 93.994</td>\n",
       "      <td>-36.4</td>\n",
       "      <td> 4.857</td>\n",
       "      <td> 5191</td>\n",
       "      <td> no</td>\n",
       "    </tr>\n",
       "    <tr>\n",
       "      <th>6</th>\n",
       "      <td> 59</td>\n",
       "      <td>      admin.</td>\n",
       "      <td> married</td>\n",
       "      <td> professional.course</td>\n",
       "      <td>      no</td>\n",
       "      <td>  no</td>\n",
       "      <td>  no</td>\n",
       "      <td> telephone</td>\n",
       "      <td> may</td>\n",
       "      <td> mon</td>\n",
       "      <td>...</td>\n",
       "      <td> 1</td>\n",
       "      <td> 999</td>\n",
       "      <td> 0</td>\n",
       "      <td> nonexistent</td>\n",
       "      <td> 1.1</td>\n",
       "      <td> 93.994</td>\n",
       "      <td>-36.4</td>\n",
       "      <td> 4.857</td>\n",
       "      <td> 5191</td>\n",
       "      <td> no</td>\n",
       "    </tr>\n",
       "    <tr>\n",
       "      <th>7</th>\n",
       "      <td> 41</td>\n",
       "      <td> blue-collar</td>\n",
       "      <td> married</td>\n",
       "      <td>             unknown</td>\n",
       "      <td> unknown</td>\n",
       "      <td>  no</td>\n",
       "      <td>  no</td>\n",
       "      <td> telephone</td>\n",
       "      <td> may</td>\n",
       "      <td> mon</td>\n",
       "      <td>...</td>\n",
       "      <td> 1</td>\n",
       "      <td> 999</td>\n",
       "      <td> 0</td>\n",
       "      <td> nonexistent</td>\n",
       "      <td> 1.1</td>\n",
       "      <td> 93.994</td>\n",
       "      <td>-36.4</td>\n",
       "      <td> 4.857</td>\n",
       "      <td> 5191</td>\n",
       "      <td> no</td>\n",
       "    </tr>\n",
       "    <tr>\n",
       "      <th>8</th>\n",
       "      <td> 24</td>\n",
       "      <td>  technician</td>\n",
       "      <td>  single</td>\n",
       "      <td> professional.course</td>\n",
       "      <td>      no</td>\n",
       "      <td> yes</td>\n",
       "      <td>  no</td>\n",
       "      <td> telephone</td>\n",
       "      <td> may</td>\n",
       "      <td> mon</td>\n",
       "      <td>...</td>\n",
       "      <td> 1</td>\n",
       "      <td> 999</td>\n",
       "      <td> 0</td>\n",
       "      <td> nonexistent</td>\n",
       "      <td> 1.1</td>\n",
       "      <td> 93.994</td>\n",
       "      <td>-36.4</td>\n",
       "      <td> 4.857</td>\n",
       "      <td> 5191</td>\n",
       "      <td> no</td>\n",
       "    </tr>\n",
       "    <tr>\n",
       "      <th>9</th>\n",
       "      <td> 25</td>\n",
       "      <td>    services</td>\n",
       "      <td>  single</td>\n",
       "      <td>         high.school</td>\n",
       "      <td>      no</td>\n",
       "      <td> yes</td>\n",
       "      <td>  no</td>\n",
       "      <td> telephone</td>\n",
       "      <td> may</td>\n",
       "      <td> mon</td>\n",
       "      <td>...</td>\n",
       "      <td> 1</td>\n",
       "      <td> 999</td>\n",
       "      <td> 0</td>\n",
       "      <td> nonexistent</td>\n",
       "      <td> 1.1</td>\n",
       "      <td> 93.994</td>\n",
       "      <td>-36.4</td>\n",
       "      <td> 4.857</td>\n",
       "      <td> 5191</td>\n",
       "      <td> no</td>\n",
       "    </tr>\n",
       "  </tbody>\n",
       "</table>\n",
       "<p>10 rows × 21 columns</p>\n",
       "</div>"
      ],
      "text/plain": [
       "   age          job  marital            education  default housing loan  \\\n",
       "0   56    housemaid  married             basic.4y       no      no   no   \n",
       "1   57     services  married          high.school  unknown      no   no   \n",
       "2   37     services  married          high.school       no     yes   no   \n",
       "3   40       admin.  married             basic.6y       no      no   no   \n",
       "4   56     services  married          high.school       no      no  yes   \n",
       "5   45     services  married             basic.9y  unknown      no   no   \n",
       "6   59       admin.  married  professional.course       no      no   no   \n",
       "7   41  blue-collar  married              unknown  unknown      no   no   \n",
       "8   24   technician   single  professional.course       no     yes   no   \n",
       "9   25     services   single          high.school       no     yes   no   \n",
       "\n",
       "     contact month day_of_week ...  campaign  pdays  previous     poutcome  \\\n",
       "0  telephone   may         mon ...         1    999         0  nonexistent   \n",
       "1  telephone   may         mon ...         1    999         0  nonexistent   \n",
       "2  telephone   may         mon ...         1    999         0  nonexistent   \n",
       "3  telephone   may         mon ...         1    999         0  nonexistent   \n",
       "4  telephone   may         mon ...         1    999         0  nonexistent   \n",
       "5  telephone   may         mon ...         1    999         0  nonexistent   \n",
       "6  telephone   may         mon ...         1    999         0  nonexistent   \n",
       "7  telephone   may         mon ...         1    999         0  nonexistent   \n",
       "8  telephone   may         mon ...         1    999         0  nonexistent   \n",
       "9  telephone   may         mon ...         1    999         0  nonexistent   \n",
       "\n",
       "  emp.var.rate  cons.price.idx  cons.conf.idx  euribor3m  nr.employed   y  \n",
       "0          1.1          93.994          -36.4      4.857         5191  no  \n",
       "1          1.1          93.994          -36.4      4.857         5191  no  \n",
       "2          1.1          93.994          -36.4      4.857         5191  no  \n",
       "3          1.1          93.994          -36.4      4.857         5191  no  \n",
       "4          1.1          93.994          -36.4      4.857         5191  no  \n",
       "5          1.1          93.994          -36.4      4.857         5191  no  \n",
       "6          1.1          93.994          -36.4      4.857         5191  no  \n",
       "7          1.1          93.994          -36.4      4.857         5191  no  \n",
       "8          1.1          93.994          -36.4      4.857         5191  no  \n",
       "9          1.1          93.994          -36.4      4.857         5191  no  \n",
       "\n",
       "[10 rows x 21 columns]"
      ]
     },
     "execution_count": 316,
     "metadata": {},
     "output_type": "execute_result"
    }
   ],
   "source": [
    "full_bank_csv = pd.read_csv('/Users/Bronco/Classes/General_assembly/DAT_SF_13/homework/HW3/bank-additional-full.csv', sep = ';')\n",
    "full_bank_csv.head(10)"
   ]
  },
  {
   "cell_type": "code",
   "execution_count": 317,
   "metadata": {
    "collapsed": false
   },
   "outputs": [
    {
     "name": "stdout",
     "output_type": "stream",
     "text": [
      "age :  78 ,  int64\n",
      "campaign :  42 ,  int64\n",
      "cons.conf.idx :  26 ,  float64\n",
      "cons.price.idx :  26 ,  float64\n",
      "contact :  2 ,  object\n",
      "day_of_week :  5 ,  object\n",
      "default :  3 ,  object\n",
      "duration :  1544 ,  int64\n",
      "education :  8 ,  object\n",
      "emp.var.rate :  10 ,  float64\n",
      "euribor3m :  316 ,  float64\n",
      "housing :  3 ,  object\n",
      "job :  12 ,  object\n",
      "loan :  3 ,  object\n",
      "marital :  4 ,  object\n",
      "month :  10 ,  object\n",
      "nr.employed :  11 ,  float64\n",
      "pdays :  27 ,  int64\n",
      "poutcome :  3 ,  object\n",
      "previous :  8 ,  int64\n",
      "y :  2 ,  object\n"
     ]
    }
   ],
   "source": [
    "for c in sorted(full_bank_csv.columns):\n",
    "    print c,': ',full_bank_csv[c].nunique(),', ',full_bank_csv[c].dtype"
   ]
  },
  {
   "cell_type": "code",
   "execution_count": 318,
   "metadata": {
    "collapsed": false
   },
   "outputs": [],
   "source": [
    "full_bank_csv = pd.read_csv('/Users/Bronco/Classes/General_assembly/DAT_SF_13/homework/HW3/bank-additional-full.csv', sep = ';')\n",
    "full_bank_csv['y'] = full_bank_csv.y.map({'no':0,'yes':1})\n",
    "full_bank_csv['education'] = full_bank_csv.education.map({'basic.4y':1, \n",
    "                                                          'high.school':4, \n",
    "                                                          'basic.6y':2, \n",
    "                                                          'basic.9y':3, \n",
    "                                                          'professional.course':5,\n",
    "                                                          'unknown':4, \n",
    "                                                          'university.degree':6, \n",
    "                                                          'illiterate':0})\n",
    "full_bank_csv['contact'] = full_bank_csv.contact.map({'telephone':0,'cellular':1})\n",
    "full_bank_csv.drop('duration', axis = 1, inplace = True)\n",
    "columns = ['day_of_week','default','housing','job','loan','marital','month','poutcome']\n",
    "for c in columns:\n",
    "    dummies = pd.get_dummies(full_bank_csv[c], prefix = c)\n",
    "    if any(map(lambda x: 'unknown' in x, dummies)):\n",
    "        for d in dummies.columns:\n",
    "            if 'unknown' in d:\n",
    "                dummies.drop(d, axis = 'columns', inplace = True)\n",
    "                break\n",
    "    else:\n",
    "        dummies = dummies.iloc[:,:-1]\n",
    "    full_bank_csv.drop(c, axis = 1, inplace = True)\n",
    "    full_bank_csv = pd.concat((full_bank_csv, dummies.iloc[:,:]), axis = 1)"
   ]
  },
  {
   "cell_type": "code",
   "execution_count": 319,
   "metadata": {
    "collapsed": false
   },
   "outputs": [
    {
     "name": "stdout",
     "output_type": "stream",
     "text": [
      "<class 'pandas.core.frame.DataFrame'>\n",
      "Int64Index: 41188 entries, 0 to 41187\n",
      "Data columns (total 47 columns):\n",
      "age                     41188 non-null int64\n",
      "education               41188 non-null int64\n",
      "contact                 41188 non-null int64\n",
      "campaign                41188 non-null int64\n",
      "pdays                   41188 non-null int64\n",
      "previous                41188 non-null int64\n",
      "emp.var.rate            41188 non-null float64\n",
      "cons.price.idx          41188 non-null float64\n",
      "cons.conf.idx           41188 non-null float64\n",
      "euribor3m               41188 non-null float64\n",
      "nr.employed             41188 non-null float64\n",
      "y                       41188 non-null int64\n",
      "day_of_week_fri         41188 non-null float64\n",
      "day_of_week_mon         41188 non-null float64\n",
      "day_of_week_thu         41188 non-null float64\n",
      "day_of_week_tue         41188 non-null float64\n",
      "default_no              41188 non-null float64\n",
      "default_yes             41188 non-null float64\n",
      "housing_no              41188 non-null float64\n",
      "housing_yes             41188 non-null float64\n",
      "job_admin.              41188 non-null float64\n",
      "job_blue-collar         41188 non-null float64\n",
      "job_entrepreneur        41188 non-null float64\n",
      "job_housemaid           41188 non-null float64\n",
      "job_management          41188 non-null float64\n",
      "job_retired             41188 non-null float64\n",
      "job_self-employed       41188 non-null float64\n",
      "job_services            41188 non-null float64\n",
      "job_student             41188 non-null float64\n",
      "job_technician          41188 non-null float64\n",
      "job_unemployed          41188 non-null float64\n",
      "loan_no                 41188 non-null float64\n",
      "loan_yes                41188 non-null float64\n",
      "marital_divorced        41188 non-null float64\n",
      "marital_married         41188 non-null float64\n",
      "marital_single          41188 non-null float64\n",
      "month_apr               41188 non-null float64\n",
      "month_aug               41188 non-null float64\n",
      "month_dec               41188 non-null float64\n",
      "month_jul               41188 non-null float64\n",
      "month_jun               41188 non-null float64\n",
      "month_mar               41188 non-null float64\n",
      "month_may               41188 non-null float64\n",
      "month_nov               41188 non-null float64\n",
      "month_oct               41188 non-null float64\n",
      "poutcome_failure        41188 non-null float64\n",
      "poutcome_nonexistent    41188 non-null float64\n",
      "dtypes: float64(40), int64(7)\n",
      "memory usage: 15.1 MB\n"
     ]
    }
   ],
   "source": [
    "full_bank_csv.info()"
   ]
  },
  {
   "cell_type": "code",
   "execution_count": 320,
   "metadata": {
    "collapsed": false
   },
   "outputs": [],
   "source": [
    "full_data = full_bank_csv.drop('y', axis = 1)\n",
    "full_target = full_bank_csv.y"
   ]
  },
  {
   "cell_type": "code",
   "execution_count": 321,
   "metadata": {
    "collapsed": true
   },
   "outputs": [],
   "source": [
    "depths = range(1,25)\n",
    "scores = []\n",
    "stds = []\n",
    "for max_depth in depths:\n",
    "    dtree = DecisionTreeClassifier(max_depth = max_depth, random_state = 1)\n",
    "    cvs = cross_val_score(dtree,full_data,full_target, cv = 8, n_jobs = -1)\n",
    "    scores.append(np.mean(cvs))\n",
    "    stds.append(np.std(cvs, ddof = -1))"
   ]
  },
  {
   "cell_type": "code",
   "execution_count": 322,
   "metadata": {
    "collapsed": false
   },
   "outputs": [
    {
     "name": "stdout",
     "output_type": "stream",
     "text": [
      "2\n"
     ]
    },
    {
     "data": {
      "image/png": "[encoded data removed]",
      "text/plain": [
       "<matplotlib.figure.Figure at 0x113f81910>"
      ]
     },
     "metadata": {},
     "output_type": "display_data"
    }
   ],
   "source": [
    "sns.plt.errorbar(depths, scores, yerr = stds)\n",
    "print depths[np.argmax(np.array(scores))]"
   ]
  },
  {
   "cell_type": "code",
   "execution_count": 325,
   "metadata": {
    "collapsed": false
   },
   "outputs": [
    {
     "data": {
      "text/html": [
       "<div style=\"max-height:1000px;max-width:1500px;overflow:auto;\">\n",
       "<table border=\"1\" class=\"dataframe\">\n",
       "  <thead>\n",
       "    <tr style=\"text-align: right;\">\n",
       "      <th></th>\n",
       "      <th>mean importances</th>\n",
       "      <th>std importances</th>\n",
       "    </tr>\n",
       "  </thead>\n",
       "  <tbody>\n",
       "    <tr>\n",
       "      <th>nr.employed</th>\n",
       "      <td> 0.576299</td>\n",
       "      <td> 0.359841</td>\n",
       "    </tr>\n",
       "    <tr>\n",
       "      <th>euribor3m</th>\n",
       "      <td> 0.218622</td>\n",
       "      <td> 0.407502</td>\n",
       "    </tr>\n",
       "    <tr>\n",
       "      <th>pdays</th>\n",
       "      <td> 0.119816</td>\n",
       "      <td> 0.052489</td>\n",
       "    </tr>\n",
       "    <tr>\n",
       "      <th>cons.conf.idx</th>\n",
       "      <td> 0.031745</td>\n",
       "      <td> 0.036651</td>\n",
       "    </tr>\n",
       "    <tr>\n",
       "      <th>emp.var.rate</th>\n",
       "      <td> 0.031276</td>\n",
       "      <td> 0.088463</td>\n",
       "    </tr>\n",
       "    <tr>\n",
       "      <th>month_aug</th>\n",
       "      <td> 0.014247</td>\n",
       "      <td> 0.040297</td>\n",
       "    </tr>\n",
       "    <tr>\n",
       "      <th>month_oct</th>\n",
       "      <td> 0.007994</td>\n",
       "      <td> 0.014941</td>\n",
       "    </tr>\n",
       "    <tr>\n",
       "      <th>age</th>\n",
       "      <td> 0.000000</td>\n",
       "      <td> 0.000000</td>\n",
       "    </tr>\n",
       "    <tr>\n",
       "      <th>month_apr</th>\n",
       "      <td> 0.000000</td>\n",
       "      <td> 0.000000</td>\n",
       "    </tr>\n",
       "    <tr>\n",
       "      <th>job_technician</th>\n",
       "      <td> 0.000000</td>\n",
       "      <td> 0.000000</td>\n",
       "    </tr>\n",
       "  </tbody>\n",
       "</table>\n",
       "</div>"
      ],
      "text/plain": [
       "                mean importances  std importances\n",
       "nr.employed             0.576299         0.359841\n",
       "euribor3m               0.218622         0.407502\n",
       "pdays                   0.119816         0.052489\n",
       "cons.conf.idx           0.031745         0.036651\n",
       "emp.var.rate            0.031276         0.088463\n",
       "month_aug               0.014247         0.040297\n",
       "month_oct               0.007994         0.014941\n",
       "age                     0.000000         0.000000\n",
       "month_apr               0.000000         0.000000\n",
       "job_technician          0.000000         0.000000"
      ]
     },
     "execution_count": 325,
     "metadata": {},
     "output_type": "execute_result"
    }
   ],
   "source": [
    "from sklearn.cross_validation import StratifiedKFold\n",
    "skf = StratifiedKFold(full_target, n_folds = 8)\n",
    "dtree = DecisionTreeClassifier(max_depth = 2)\n",
    "df = pd.DataFrame(index = full_data.columns)\n",
    "for train, test in skf:\n",
    "    dtree.fit(full_data.iloc[train],full_target[train])\n",
    "    importances = dtree.feature_importances_\n",
    "    temp_s = pd.Series(importances, index = full_data.columns)\n",
    "    df = pd.concat([df,temp_s], axis = 1 )\n",
    "stds = df.std(axis = 1)\n",
    "means = df.mean(axis = 1)\n",
    "df2 = pd.concat([means,stds], axis = 1).sort(ascending = False, columns = 0)\n",
    "df2.columns = ['mean importances', 'std importances']\n",
    "df2.head(10)"
   ]
  },
  {
   "cell_type": "code",
   "execution_count": 328,
   "metadata": {
    "collapsed": false
   },
   "outputs": [
    {
     "data": {
      "text/plain": [
       "0.90156698300595894"
      ]
     },
     "execution_count": 328,
     "metadata": {},
     "output_type": "execute_result"
    }
   ],
   "source": [
    "X_train, X_test, y_train, y_test = train_test_split(full_data, full_target, test_size = .33)\n",
    "dtree = DecisionTreeClassifier(max_depth=2, random_state=1)\n",
    "dtree.fit(X_train, y_train)\n",
    "np.mean(dtree.predict(X_test) == y_test)"
   ]
  },
  {
   "cell_type": "code",
   "execution_count": 331,
   "metadata": {
    "collapsed": false
   },
   "outputs": [
    {
     "data": {
      "text/plain": [
       "True"
      ]
     },
     "execution_count": 331,
     "metadata": {},
     "output_type": "execute_result"
    }
   ],
   "source": [
    "dot_data = StringIO() \n",
    "export_graphviz(dtree, out_file=dot_data, feature_names = full_data.columns) \n",
    "graph = pydot.graph_from_dot_data(dot_data.getvalue()) \n",
    "graph.write_png(\"Full_data_bank_tree.png\")"
   ]
  },
  {
   "cell_type": "markdown",
   "metadata": {},
   "source": [
    "<img src=\"Full_data_bank_tree.png\">"
   ]
  },
  {
   "cell_type": "markdown",
   "metadata": {},
   "source": [
    "Looks like the euribor rate is a very good predictor of who will take out a loan. However, looking at the gini importances and the standard deviations associated with them, it seems that the particular splits used to train the model have a large impact on the results. The number of employees indicator is also a good predictor, but it's unclear what this really has to do with someone's choice to take out a loan. The consumer confidence index makes sense as a predictor, but it is never a very good one."
   ]
  },
  {
   "cell_type": "code",
   "execution_count": null,
   "metadata": {
    "collapsed": true
   },
   "outputs": [],
   "source": []
  }
 ],
 "metadata": {
  "kernelspec": {
   "display_name": "Python 2",
   "language": "python",
   "name": "python2"
  },
  "language_info": {
   "codemirror_mode": {
    "name": "ipython",
    "version": 2
   },
   "file_extension": ".py",
   "mimetype": "text/x-python",
   "name": "python",
   "nbconvert_exporter": "python",
   "pygments_lexer": "ipython2",
   "version": "2.7.9"
  }
 },
 "nbformat": 4,
 "nbformat_minor": 0
}
