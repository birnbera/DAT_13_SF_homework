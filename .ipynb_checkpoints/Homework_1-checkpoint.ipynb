{
 "cells": [
  {
   "cell_type": "markdown",
   "metadata": {},
   "source": [
    "# Homework 1 answers: Titantic dataset"
   ]
  },
  {
   "cell_type": "code",
   "execution_count": 1,
   "metadata": {
    "collapsed": false
   },
   "outputs": [
    {
     "data": {
      "text/html": [
       "<div style=\"max-height:1000px;max-width:1500px;overflow:auto;\">\n",
       "<table border=\"1\" class=\"dataframe\">\n",
       "  <thead>\n",
       "    <tr style=\"text-align: right;\">\n",
       "      <th></th>\n",
       "      <th>Survived</th>\n",
       "      <th>Pclass</th>\n",
       "      <th>Name</th>\n",
       "      <th>Sex</th>\n",
       "      <th>Age</th>\n",
       "      <th>SibSp</th>\n",
       "      <th>Parch</th>\n",
       "      <th>Ticket</th>\n",
       "      <th>Fare</th>\n",
       "      <th>Cabin</th>\n",
       "      <th>Embarked</th>\n",
       "    </tr>\n",
       "    <tr>\n",
       "      <th>PassengerId</th>\n",
       "      <th></th>\n",
       "      <th></th>\n",
       "      <th></th>\n",
       "      <th></th>\n",
       "      <th></th>\n",
       "      <th></th>\n",
       "      <th></th>\n",
       "      <th></th>\n",
       "      <th></th>\n",
       "      <th></th>\n",
       "      <th></th>\n",
       "    </tr>\n",
       "  </thead>\n",
       "  <tbody>\n",
       "    <tr>\n",
       "      <th>1</th>\n",
       "      <td> 0</td>\n",
       "      <td> 3</td>\n",
       "      <td>                           Braund, Mr. Owen Harris</td>\n",
       "      <td>   male</td>\n",
       "      <td> 22</td>\n",
       "      <td> 1</td>\n",
       "      <td> 0</td>\n",
       "      <td>        A/5 21171</td>\n",
       "      <td>  7.2500</td>\n",
       "      <td>  NaN</td>\n",
       "      <td> S</td>\n",
       "    </tr>\n",
       "    <tr>\n",
       "      <th>2</th>\n",
       "      <td> 1</td>\n",
       "      <td> 1</td>\n",
       "      <td> Cumings, Mrs. John Bradley (Florence Briggs Th...</td>\n",
       "      <td> female</td>\n",
       "      <td> 38</td>\n",
       "      <td> 1</td>\n",
       "      <td> 0</td>\n",
       "      <td>         PC 17599</td>\n",
       "      <td> 71.2833</td>\n",
       "      <td>  C85</td>\n",
       "      <td> C</td>\n",
       "    </tr>\n",
       "    <tr>\n",
       "      <th>3</th>\n",
       "      <td> 1</td>\n",
       "      <td> 3</td>\n",
       "      <td>                            Heikkinen, Miss. Laina</td>\n",
       "      <td> female</td>\n",
       "      <td> 26</td>\n",
       "      <td> 0</td>\n",
       "      <td> 0</td>\n",
       "      <td> STON/O2. 3101282</td>\n",
       "      <td>  7.9250</td>\n",
       "      <td>  NaN</td>\n",
       "      <td> S</td>\n",
       "    </tr>\n",
       "    <tr>\n",
       "      <th>4</th>\n",
       "      <td> 1</td>\n",
       "      <td> 1</td>\n",
       "      <td>      Futrelle, Mrs. Jacques Heath (Lily May Peel)</td>\n",
       "      <td> female</td>\n",
       "      <td> 35</td>\n",
       "      <td> 1</td>\n",
       "      <td> 0</td>\n",
       "      <td>           113803</td>\n",
       "      <td> 53.1000</td>\n",
       "      <td> C123</td>\n",
       "      <td> S</td>\n",
       "    </tr>\n",
       "    <tr>\n",
       "      <th>5</th>\n",
       "      <td> 0</td>\n",
       "      <td> 3</td>\n",
       "      <td>                          Allen, Mr. William Henry</td>\n",
       "      <td>   male</td>\n",
       "      <td> 35</td>\n",
       "      <td> 0</td>\n",
       "      <td> 0</td>\n",
       "      <td>           373450</td>\n",
       "      <td>  8.0500</td>\n",
       "      <td>  NaN</td>\n",
       "      <td> S</td>\n",
       "    </tr>\n",
       "  </tbody>\n",
       "</table>\n",
       "</div>"
      ],
      "text/plain": [
       "             Survived  Pclass  \\\n",
       "PassengerId                     \n",
       "1                   0       3   \n",
       "2                   1       1   \n",
       "3                   1       3   \n",
       "4                   1       1   \n",
       "5                   0       3   \n",
       "\n",
       "                                                          Name     Sex  Age  \\\n",
       "PassengerId                                                                   \n",
       "1                                      Braund, Mr. Owen Harris    male   22   \n",
       "2            Cumings, Mrs. John Bradley (Florence Briggs Th...  female   38   \n",
       "3                                       Heikkinen, Miss. Laina  female   26   \n",
       "4                 Futrelle, Mrs. Jacques Heath (Lily May Peel)  female   35   \n",
       "5                                     Allen, Mr. William Henry    male   35   \n",
       "\n",
       "             SibSp  Parch            Ticket     Fare Cabin Embarked  \n",
       "PassengerId                                                          \n",
       "1                1      0         A/5 21171   7.2500   NaN        S  \n",
       "2                1      0          PC 17599  71.2833   C85        C  \n",
       "3                0      0  STON/O2. 3101282   7.9250   NaN        S  \n",
       "4                1      0            113803  53.1000  C123        S  \n",
       "5                0      0            373450   8.0500   NaN        S  "
      ]
     },
     "execution_count": 1,
     "metadata": {},
     "output_type": "execute_result"
    }
   ],
   "source": [
    "from __future__ import division\n",
    "import pandas as pd\n",
    "\n",
    "# Load dataset into DataFrame\n",
    "path = '/Users/Bronco/Classes/General_assembly/DAT_SF_13/homework/titanic.csv'\n",
    "\n",
    "titanic_df = pd.read_csv(path, index_col = 'PassengerId')\n",
    "titanic_df.head()"
   ]
  },
  {
   "cell_type": "markdown",
   "metadata": {},
   "source": [
    "####1.    How many passengers?"
   ]
  },
  {
   "cell_type": "code",
   "execution_count": 2,
   "metadata": {
    "collapsed": false,
    "scrolled": true
   },
   "outputs": [
    {
     "name": "stdout",
     "output_type": "stream",
     "text": [
      "There were 891 passengers aboard.\n"
     ]
    }
   ],
   "source": [
    "naboard = titanic_df.index.size\n",
    "print 'There were {} passengers aboard.'.format(naboard)"
   ]
  },
  {
   "cell_type": "markdown",
   "metadata": {},
   "source": [
    "####2.    What is the overall survival rate?"
   ]
  },
  {
   "cell_type": "code",
   "execution_count": 3,
   "metadata": {
    "collapsed": false
   },
   "outputs": [
    {
     "name": "stdout",
     "output_type": "stream",
     "text": [
      "38.38% of the people on board survived.\n"
     ]
    }
   ],
   "source": [
    "nsurvived = titanic_df.Survived[titanic_df.Survived > 0].count()\n",
    "survival_rate = nsurvived/naboard\n",
    "print '{:.2%} of the people on board survived.'.format(survival_rate)"
   ]
  },
  {
   "cell_type": "markdown",
   "metadata": {},
   "source": [
    "####3.    How many male passengers were on board?"
   ]
  },
  {
   "cell_type": "code",
   "execution_count": 4,
   "metadata": {
    "collapsed": false
   },
   "outputs": [
    {
     "name": "stdout",
     "output_type": "stream",
     "text": [
      "There were 577 male passengers on board.\n"
     ]
    }
   ],
   "source": [
    "nmale = titanic_df.Sex[titanic_df.Sex == 'male'].count()\n",
    "print 'There were {} male passengers on board.'.format(nmale)"
   ]
  },
  {
   "cell_type": "markdown",
   "metadata": {},
   "source": [
    "####4.    How many female passengers were on board?"
   ]
  },
  {
   "cell_type": "code",
   "execution_count": 5,
   "metadata": {
    "collapsed": false
   },
   "outputs": [
    {
     "name": "stdout",
     "output_type": "stream",
     "text": [
      "There were 314 female passengers on board.\n"
     ]
    }
   ],
   "source": [
    "nfemale = titanic_df.Sex[titanic_df.Sex == 'female'].count()\n",
    "print 'There were {} female passengers on board.'.format(nfemale)"
   ]
  },
  {
   "cell_type": "markdown",
   "metadata": {},
   "source": [
    "####5.    What is the overall survival rate of male passengers?"
   ]
  },
  {
   "cell_type": "code",
   "execution_count": 6,
   "metadata": {
    "collapsed": false
   },
   "outputs": [
    {
     "name": "stdout",
     "output_type": "stream",
     "text": [
      "18.89% of the male passengers survived.\n"
     ]
    }
   ],
   "source": [
    "nmale_survived = len(titanic_df[(titanic_df.Sex == 'male') & (titanic_df.Survived == 1)])\n",
    "print '{:.2%} of the male passengers survived.'.format(nmale_survived/nmale)"
   ]
  },
  {
   "cell_type": "markdown",
   "metadata": {},
   "source": [
    "####6.    What is the overall survival rate of female passengers?"
   ]
  },
  {
   "cell_type": "code",
   "execution_count": 7,
   "metadata": {
    "collapsed": false
   },
   "outputs": [
    {
     "name": "stdout",
     "output_type": "stream",
     "text": [
      "74.20% of the female passengers survived.\n"
     ]
    }
   ],
   "source": [
    "nfemale_survived = len(titanic_df[(titanic_df.Sex == 'female') & (titanic_df.Survived == 1)])\n",
    "print '{:.2%} of the female passengers survived.'.format(nfemale_survived/nfemale)"
   ]
  },
  {
   "cell_type": "markdown",
   "metadata": {},
   "source": [
    "####7. What is the average age of all passengers on board?"
   ]
  },
  {
   "cell_type": "code",
   "execution_count": 8,
   "metadata": {
    "collapsed": false
   },
   "outputs": [
    {
     "name": "stdout",
     "output_type": "stream",
     "text": [
      "The average age of passengers aboard the Titantic was 29.7.\n"
     ]
    }
   ],
   "source": [
    "mean_ages = titanic_df.Age.mean()\n",
    "print 'The average age of passengers aboard the Titantic was {:0.1f}.'.format(mean_ages)"
   ]
  },
  {
   "cell_type": "markdown",
   "metadata": {},
   "source": [
    "To calculate the average age I just used the pandas `.mean()` method, which calculates the mean of a series while dropping missing values. This is approximate since we don't know how the missing values might have affected the mean. Other ways to deal with the missing values are to fill them in with the mean calculated as above, which won't affect the mean, but might affect the median in future calculations. You could also try to guess the values from the other data in case there is a correllation with other metrics, such as class. If future calculations using the age can accept weights associated with the data you could give reported ages a weight of 1 and then guess the ages of the rest using a function that could give a probability that would serve as the weighting factor."
   ]
  },
  {
   "cell_type": "markdown",
   "metadata": {},
   "source": [
    "####8.    What is the average age of passengers that survived?"
   ]
  },
  {
   "cell_type": "code",
   "execution_count": 9,
   "metadata": {
    "collapsed": false
   },
   "outputs": [
    {
     "name": "stdout",
     "output_type": "stream",
     "text": [
      "The average age of passengers that survived is 28.3.\n"
     ]
    }
   ],
   "source": [
    "mean_age_survived = titanic_df[titanic_df.Survived == 1].Age.mean()\n",
    "print 'The average age of passengers that survived is {:.1f}.'.format(mean_age_survived)"
   ]
  },
  {
   "cell_type": "markdown",
   "metadata": {},
   "source": [
    "####9.    What is the average age of passengers that died?"
   ]
  },
  {
   "cell_type": "code",
   "execution_count": 10,
   "metadata": {
    "collapsed": false
   },
   "outputs": [
    {
     "name": "stdout",
     "output_type": "stream",
     "text": [
      "The average age of passengers that survived is 30.6.\n"
     ]
    }
   ],
   "source": [
    "mean_age_died = titanic_df[~(titanic_df.Survived == 1)].Age.mean()\n",
    "print 'The average age of passengers that survived is {:.1f}.'.format(mean_age_died)"
   ]
  },
  {
   "cell_type": "markdown",
   "metadata": {},
   "source": [
    "####10.    At this (early) point in our analysis, what might you infer about any patterns you are seeing?\n"
   ]
  },
  {
   "cell_type": "markdown",
   "metadata": {},
   "source": [
    "It is pretty clear so far that women had a better chance of survival than men. I'm guessing that chivalry and traditional gender roles played a large part in this. Also, age may have been a factor, although it's hard to say how significant a role it played given the missing data. The difference is small so it could just be by chance. \n",
    "\n",
    "Randomly reshuffling who survived 10000 times and observing the liklihood of seeing a difference in ages as great as 28.3 - 30.6 could show whether this is a significant result:"
   ]
  },
  {
   "cell_type": "code",
   "execution_count": 11,
   "metadata": {
    "collapsed": false
   },
   "outputs": [
    {
     "name": "stdout",
     "output_type": "stream",
     "text": [
      "Reshuffling the data 10000 times with respect to who survived shows that\n",
      "the probability of observing a difference as great as -2.28 years is 0.0192\n"
     ]
    }
   ],
   "source": [
    "import numpy as np\n",
    "\n",
    "original_diff = mean_age_survived - mean_age_died\n",
    "\n",
    "results = []\n",
    "\n",
    "n = 10000\n",
    "\n",
    "for i in xrange(n):\n",
    "    idx_survived = np.random.choice(naboard, nsurvived, replace = False)\n",
    "    mask_dead = np.zeros(naboard, bool)\n",
    "    mask_dead[idx_survived] = True\n",
    "    bs_mean_age_survived = titanic_df.Age.where(mask_dead).mean()\n",
    "    bs_mean_age_died = titanic_df.Age.where(~mask_dead).mean()\n",
    "    difference = bs_mean_age_survived - bs_mean_age_died\n",
    "    results.append(difference)\n",
    "\n",
    "results = pd.Series(results)\n",
    "prob_bs = results[results < original_diff].count()/n\n",
    "\n",
    "print('Reshuffling the data {} times with respect to who survived shows that\\n'.format(n) +\n",
    "      'the probability of observing a difference as great as {:.2f} years is {}'.format(original_diff,prob_bs))"
   ]
  },
  {
   "cell_type": "markdown",
   "metadata": {},
   "source": [
    "The above result does suggest that the small seemingly difference seen in ages between those that survived and died may in fact be significant using the p < 0.05 convention. It makes sense that age would be a factor in the harsh conditions of the North Atlantic."
   ]
  },
  {
   "cell_type": "markdown",
   "metadata": {},
   "source": [
    "####11.     How many passengers are in each of the three classes of service (e.g. First, Second, Third?)"
   ]
  },
  {
   "cell_type": "code",
   "execution_count": 12,
   "metadata": {
    "collapsed": false
   },
   "outputs": [
    {
     "name": "stdout",
     "output_type": "stream",
     "text": [
      "There were 216 passengers in first class.\n",
      "There were 184 passengers in second class.\n",
      "There were 491 passengers in third class.\n"
     ]
    }
   ],
   "source": [
    "classes = {1:'first', 2:'second', 3:'third'}\n",
    "for i in range(1,4):\n",
    "    num_passengers = len(titanic_df.Pclass[titanic_df.Pclass == i])\n",
    "    print 'There were {} passengers in {} class.'.format(num_passengers,classes[i])"
   ]
  },
  {
   "cell_type": "markdown",
   "metadata": {},
   "source": [
    "####12.    What is the survival rate for passengers in each of the three classes of service?"
   ]
  },
  {
   "cell_type": "code",
   "execution_count": 13,
   "metadata": {
    "collapsed": false
   },
   "outputs": [
    {
     "name": "stdout",
     "output_type": "stream",
     "text": [
      "There were 62.96% passengers in first class.\n",
      "There were 47.28% passengers in second class.\n",
      "There were 24.24% passengers in third class.\n"
     ]
    }
   ],
   "source": [
    "for i in range(1,4):\n",
    "    passengers = titanic_df.Pclass[titanic_df.Pclass == i]\n",
    "    passengers_survived = passengers[titanic_df.Survived == 1]\n",
    "    pct_survived = len(passengers_survived)/len(passengers)\n",
    "    print 'There were {:.2%} passengers in {} class.'.format(pct_survived,classes[i])"
   ]
  },
  {
   "cell_type": "markdown",
   "metadata": {},
   "source": [
    "Given the previous result showing the effect of sex on survival rate it would be interesting to know how this breaks down by class:"
   ]
  },
  {
   "cell_type": "code",
   "execution_count": 14,
   "metadata": {
    "collapsed": false
   },
   "outputs": [
    {
     "name": "stdout",
     "output_type": "stream",
     "text": [
      "In first class 36.89% of male and 96.81% of female passengers survived.\n",
      "In first class the ratio of surviving male to female passengers was 0.38\n",
      "In second class 15.74% of male and 92.11% of female passengers survived.\n",
      "In second class the ratio of surviving male to female passengers was 0.17\n",
      "In third class 13.54% of male and 50.00% of female passengers survived.\n",
      "In third class the ratio of surviving male to female passengers was 0.27\n"
     ]
    }
   ],
   "source": [
    "for i in range(1,4):\n",
    "    mpassengers = titanic_df.Pclass[(titanic_df.Pclass == i) & (titanic_df.Sex == 'male')]\n",
    "    fpassengers = titanic_df.Pclass[(titanic_df.Pclass == i) & (titanic_df.Sex == 'female')]\n",
    "    msurvived = mpassengers[titanic_df.Survived == 1]\n",
    "    fsurvived = fpassengers[titanic_df.Survived == 1]\n",
    "    pct_male = len(msurvived)/len(mpassengers)\n",
    "    pct_female = len(fsurvived)/len(fpassengers)\n",
    "    print 'In {} class {:.2%} of male and {:.2%} of female passengers survived.'.format(classes[i], \n",
    "                                                                                        pct_male, pct_female)\n",
    "    print 'In {} class the ratio of surviving male to female passengers was {:.2f}'.format(classes[i],pct_male/pct_female)"
   ]
  },
  {
   "cell_type": "markdown",
   "metadata": {},
   "source": [
    "This confirms that the liklihood of dying was definitely higher in the lower classes, but also shows that overall men in the first class were still more likely to survive relative to their female counterparts than those in the other classes. The story told by the numbers in the second class is interesting as it suggests that while survival rates were generally lower than in the first class, men in the second class made the most sacrifices on behalf on the women in their class."
   ]
  },
  {
   "cell_type": "markdown",
   "metadata": {},
   "source": [
    "####13.    What else might you conclude?"
   ]
  },
  {
   "cell_type": "markdown",
   "metadata": {},
   "source": [
    "Without further analysis there doesn't seem to be much else to conclude."
   ]
  },
  {
   "cell_type": "markdown",
   "metadata": {},
   "source": [
    "####14. Last, if we were to build a predictive model, which features in the data do you think we should include in the model and which can we leave out? Why?"
   ]
  },
  {
   "cell_type": "markdown",
   "metadata": {},
   "source": [
    "We can probably leave out ticket number as it is least relevant to conditions aboard the ship. However, if multiple people use the same ticket number, such as families, or if consecutive numbers of the tickets indicate that they were purchased together, then you might expect the ticket numbers to indicate something significant. To incorporate the ticket numbers you could calculate the Hamming distance between all the tickets as a matrix and include the matrix as a set of features during prediction. This could become computationally intractible though with so many tickets (essentially adding that many features to each passenger).\n",
    "\n",
    "Also, the port of embarkation might not be very significant for the analysis, although it would be difficult to exclude in case cabins were filled by port of embarkation, in which the passengers location within the ship at the time of the sinking might be highly correlated with port of embarkation. I would probably run the analysis both with and without these features."
   ]
  }
 ],
 "metadata": {
  "kernelspec": {
   "display_name": "Python 2",
   "language": "python",
   "name": "python2"
  },
  "language_info": {
   "codemirror_mode": {
    "name": "ipython",
    "version": 2
   },
   "file_extension": ".py",
   "mimetype": "text/x-python",
   "name": "python",
   "nbconvert_exporter": "python",
   "pygments_lexer": "ipython2",
   "version": "2.7.9"
  }
 },
 "nbformat": 4,
 "nbformat_minor": 0
}
